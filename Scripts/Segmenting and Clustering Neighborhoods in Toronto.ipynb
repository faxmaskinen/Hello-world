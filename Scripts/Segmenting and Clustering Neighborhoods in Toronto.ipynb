{
 "metadata": {
  "language_info": {
   "codemirror_mode": {
    "name": "ipython",
    "version": 3
   },
   "file_extension": ".py",
   "mimetype": "text/x-python",
   "name": "python",
   "nbconvert_exporter": "python",
   "pygments_lexer": "ipython3",
   "version": "3.8.6-final"
  },
  "orig_nbformat": 2,
  "kernelspec": {
   "name": "Python 3.8.6 64-bit",
   "display_name": "Python 3.8.6 64-bit",
   "metadata": {
    "interpreter": {
     "hash": "c1c7833bc1f675858b97fffafeb722f93481f4d9b87f7b55bd9edaba86123ae6"
    }
   }
  }
 },
 "nbformat": 4,
 "nbformat_minor": 2,
 "cells": [
  {
   "source": [
    "## Segmenting and Clustering Neighborhoods in Toronto\n",
    "### Let's get started\n",
    "import necessary packages\n"
   ],
   "cell_type": "markdown",
   "metadata": {}
  },
  {
   "cell_type": "code",
   "execution_count": 12,
   "metadata": {},
   "outputs": [
    {
     "output_type": "stream",
     "name": "stdout",
     "text": [
      "Libraries imported.\n"
     ]
    }
   ],
   "source": [
    "import pandas as pd # library for data analsysis\n",
    "import numpy as np # library to handle data in a vectorized manner\n",
    "import random # library for random number generation\n",
    "#  http://beautiful-soup-4.readthedocs.io/en/latest/    # for more advanced web scraping  \n",
    "\n",
    "import lxml\n",
    "import html5lib\n",
    "\n",
    "print('Libraries imported.')"
   ]
  },
  {
   "source": [
    "Get postal code data from Wikipedias page List of \"postal codes of Canada: M\"  \n",
    "\n",
    "Then turn it into a panda dataframe"
   ],
   "cell_type": "markdown",
   "metadata": {}
  },
  {
   "cell_type": "code",
   "execution_count": 13,
   "metadata": {},
   "outputs": [
    {
     "output_type": "execute_result",
     "data": {
      "text/plain": [
       "  Postal Code           Borough              Neighbourhood\n",
       "0         M1A      Not assigned               Not assigned\n",
       "1         M2A      Not assigned               Not assigned\n",
       "2         M3A        North York                  Parkwoods\n",
       "3         M4A        North York           Victoria Village\n",
       "4         M5A  Downtown Toronto  Regent Park, Harbourfront"
      ],
      "text/html": "<div>\n<style scoped>\n    .dataframe tbody tr th:only-of-type {\n        vertical-align: middle;\n    }\n\n    .dataframe tbody tr th {\n        vertical-align: top;\n    }\n\n    .dataframe thead th {\n        text-align: right;\n    }\n</style>\n<table border=\"1\" class=\"dataframe\">\n  <thead>\n    <tr style=\"text-align: right;\">\n      <th></th>\n      <th>Postal Code</th>\n      <th>Borough</th>\n      <th>Neighbourhood</th>\n    </tr>\n  </thead>\n  <tbody>\n    <tr>\n      <th>0</th>\n      <td>M1A</td>\n      <td>Not assigned</td>\n      <td>Not assigned</td>\n    </tr>\n    <tr>\n      <th>1</th>\n      <td>M2A</td>\n      <td>Not assigned</td>\n      <td>Not assigned</td>\n    </tr>\n    <tr>\n      <th>2</th>\n      <td>M3A</td>\n      <td>North York</td>\n      <td>Parkwoods</td>\n    </tr>\n    <tr>\n      <th>3</th>\n      <td>M4A</td>\n      <td>North York</td>\n      <td>Victoria Village</td>\n    </tr>\n    <tr>\n      <th>4</th>\n      <td>M5A</td>\n      <td>Downtown Toronto</td>\n      <td>Regent Park, Harbourfront</td>\n    </tr>\n  </tbody>\n</table>\n</div>"
     },
     "metadata": {},
     "execution_count": 13
    }
   ],
   "source": [
    "url = 'https://en.wikipedia.org/wiki/List_of_postal_codes_of_Canada:_M'\n",
    "df = pd.read_html(url, attrs={\"class\": \"wikitable\"})[0]   # 0 is for the 1st table in this particular page\n",
    "df.head()"
   ]
  },
  {
   "source": [
    "Clean the data in the dataframe df"
   ],
   "cell_type": "markdown",
   "metadata": {}
  },
  {
   "cell_type": "code",
   "execution_count": 14,
   "metadata": {},
   "outputs": [
    {
     "output_type": "stream",
     "name": "stdout",
     "text": [
      "Dropped 'Not assigned' values in the 'Postal Code' column!\nAny mispelles not assigned values in 'Borough'?  Series([], Name: Borough, dtype: object), Series([], Name: Borough, dtype: object)\nThere is no duplicate 'Postal Code' rows!\nCannot find any 'Not assigned' values in the 'Neighbourhood' column!\n"
     ]
    },
    {
     "output_type": "execute_result",
     "data": {
      "text/plain": [
       "  Postal Code           Borough                                Neighbourhood\n",
       "0         M3A        North York                                    Parkwoods\n",
       "1         M4A        North York                             Victoria Village\n",
       "2         M5A  Downtown Toronto                    Regent Park, Harbourfront\n",
       "3         M6A        North York             Lawrence Manor, Lawrence Heights\n",
       "4         M7A  Downtown Toronto  Queen's Park, Ontario Provincial Government"
      ],
      "text/html": "<div>\n<style scoped>\n    .dataframe tbody tr th:only-of-type {\n        vertical-align: middle;\n    }\n\n    .dataframe tbody tr th {\n        vertical-align: top;\n    }\n\n    .dataframe thead th {\n        text-align: right;\n    }\n</style>\n<table border=\"1\" class=\"dataframe\">\n  <thead>\n    <tr style=\"text-align: right;\">\n      <th></th>\n      <th>Postal Code</th>\n      <th>Borough</th>\n      <th>Neighbourhood</th>\n    </tr>\n  </thead>\n  <tbody>\n    <tr>\n      <th>0</th>\n      <td>M3A</td>\n      <td>North York</td>\n      <td>Parkwoods</td>\n    </tr>\n    <tr>\n      <th>1</th>\n      <td>M4A</td>\n      <td>North York</td>\n      <td>Victoria Village</td>\n    </tr>\n    <tr>\n      <th>2</th>\n      <td>M5A</td>\n      <td>Downtown Toronto</td>\n      <td>Regent Park, Harbourfront</td>\n    </tr>\n    <tr>\n      <th>3</th>\n      <td>M6A</td>\n      <td>North York</td>\n      <td>Lawrence Manor, Lawrence Heights</td>\n    </tr>\n    <tr>\n      <th>4</th>\n      <td>M7A</td>\n      <td>Downtown Toronto</td>\n      <td>Queen's Park, Ontario Provincial Government</td>\n    </tr>\n  </tbody>\n</table>\n</div>"
     },
     "metadata": {},
     "execution_count": 14
    }
   ],
   "source": [
    "df['Borough']=df['Borough'].replace('Not assigned',np.NaN)   # replace 'Not assigned' with NaN \n",
    "df=df.dropna() \n",
    "df.reset_index(drop=True, inplace=True)\n",
    "print(\"Dropped 'Not assigned' values in the 'Postal Code' column!\")\n",
    "\n",
    "# pd.set_option('display.max_rows', None)     # show all data in dataframe\n",
    "\n",
    "# check for mispelled 'Not assigned' values in 'Borough' which has not been replaced\n",
    "print(\"Any mispelles not assigned values in 'Borough'?  \" + str(df['Borough'][df['Borough'].str.lower().str.contains('t as', regex=False)]) + \", \" + str(df['Borough'][df['Borough'].str.lower().str.contains('not ', regex=False)]) )   \n",
    "\n",
    "# find non unique (duplicate) postal codes \n",
    "dupli= \"no\"\n",
    "for d in df['Postal Code'].duplicated().unique():\n",
    "    if d == True:\n",
    "        dupli = \"\"\n",
    "print(\"There is \" + dupli+\" duplicate 'Postal Code' rows!\")\n",
    "\n",
    "\n",
    "# find neighborhoods with 'Not assigned' values\n",
    "assigned=\"Cannot find any\"\n",
    "for a in df['Neighbourhood'].isin(['Not assigned']):\n",
    "    if a == True:\n",
    "        assigned=\"Found\"\n",
    "print(assigned+\" 'Not assigned' values in the 'Neighbourhood' column!\")\n",
    "\n",
    "df.head()"
   ]
  },
  {
   "source": [
    "Let's check the size of our dataframe"
   ],
   "cell_type": "markdown",
   "metadata": {}
  },
  {
   "cell_type": "code",
   "execution_count": 15,
   "metadata": {},
   "outputs": [
    {
     "output_type": "execute_result",
     "data": {
      "text/plain": [
       "(103, 3)"
      ]
     },
     "metadata": {},
     "execution_count": 15
    }
   ],
   "source": [
    "df.shape"
   ]
  },
  {
   "source": [
    "\n",
    "# Part 2\n",
    "\n",
    "Import necessary packages: \n",
    "\n",
    "Google Maps Geocoding API started to cost therefore geocoder is used, however it is a bit unreliable it seems, thus we need to download an .CSV file with data of the coordinates\n"
   ],
   "cell_type": "markdown",
   "metadata": {}
  },
  {
   "cell_type": "code",
   "execution_count": 16,
   "metadata": {},
   "outputs": [
    {
     "output_type": "execute_result",
     "data": {
      "text/plain": [
       "    Postal Code   Latitude  Longitude\n",
       "0           M1B  43.806686 -79.194353\n",
       "1           M1C  43.784535 -79.160497\n",
       "2           M1E  43.763573 -79.188711\n",
       "3           M1G  43.770992 -79.216917\n",
       "4           M1H  43.773136 -79.239476\n",
       "..          ...        ...        ...\n",
       "98          M9N  43.706876 -79.518188\n",
       "99          M9P  43.696319 -79.532242\n",
       "100         M9R  43.688905 -79.554724\n",
       "101         M9V  43.739416 -79.588437\n",
       "102         M9W  43.706748 -79.594054\n",
       "\n",
       "[103 rows x 3 columns]"
      ],
      "text/html": "<div>\n<style scoped>\n    .dataframe tbody tr th:only-of-type {\n        vertical-align: middle;\n    }\n\n    .dataframe tbody tr th {\n        vertical-align: top;\n    }\n\n    .dataframe thead th {\n        text-align: right;\n    }\n</style>\n<table border=\"1\" class=\"dataframe\">\n  <thead>\n    <tr style=\"text-align: right;\">\n      <th></th>\n      <th>Postal Code</th>\n      <th>Latitude</th>\n      <th>Longitude</th>\n    </tr>\n  </thead>\n  <tbody>\n    <tr>\n      <th>0</th>\n      <td>M1B</td>\n      <td>43.806686</td>\n      <td>-79.194353</td>\n    </tr>\n    <tr>\n      <th>1</th>\n      <td>M1C</td>\n      <td>43.784535</td>\n      <td>-79.160497</td>\n    </tr>\n    <tr>\n      <th>2</th>\n      <td>M1E</td>\n      <td>43.763573</td>\n      <td>-79.188711</td>\n    </tr>\n    <tr>\n      <th>3</th>\n      <td>M1G</td>\n      <td>43.770992</td>\n      <td>-79.216917</td>\n    </tr>\n    <tr>\n      <th>4</th>\n      <td>M1H</td>\n      <td>43.773136</td>\n      <td>-79.239476</td>\n    </tr>\n    <tr>\n      <th>...</th>\n      <td>...</td>\n      <td>...</td>\n      <td>...</td>\n    </tr>\n    <tr>\n      <th>98</th>\n      <td>M9N</td>\n      <td>43.706876</td>\n      <td>-79.518188</td>\n    </tr>\n    <tr>\n      <th>99</th>\n      <td>M9P</td>\n      <td>43.696319</td>\n      <td>-79.532242</td>\n    </tr>\n    <tr>\n      <th>100</th>\n      <td>M9R</td>\n      <td>43.688905</td>\n      <td>-79.554724</td>\n    </tr>\n    <tr>\n      <th>101</th>\n      <td>M9V</td>\n      <td>43.739416</td>\n      <td>-79.588437</td>\n    </tr>\n    <tr>\n      <th>102</th>\n      <td>M9W</td>\n      <td>43.706748</td>\n      <td>-79.594054</td>\n    </tr>\n  </tbody>\n</table>\n<p>103 rows × 3 columns</p>\n</div>"
     },
     "metadata": {},
     "execution_count": 16
    }
   ],
   "source": [
    "df_coordinates=pd.read_csv('../datafiles/Geospatial_Coordinates.csv')\n",
    "df_coordinates"
   ]
  },
  {
   "cell_type": "code",
   "execution_count": 17,
   "metadata": {},
   "outputs": [],
   "source": [
    "# pip install geopandas"
   ]
  },
  {
   "cell_type": "code",
   "execution_count": 18,
   "metadata": {},
   "outputs": [],
   "source": [
    "import geocoder # import geocoder\n",
    "import geopy\n",
    "from geopy.geocoders import Nominatim"
   ]
  },
  {
   "cell_type": "code",
   "execution_count": 19,
   "metadata": {},
   "outputs": [],
   "source": [
    "# https://towardsdatascience.com/geocode-with-python-161ec1e62b89\n",
    "\n",
    "locator = Nominatim(user_agent=\"myGeocoder\")\n",
    "location = locator.geocode(\"Champ de Mars, Paris, France\")"
   ]
  },
  {
   "cell_type": "code",
   "execution_count": 21,
   "metadata": {},
   "outputs": [
    {
     "output_type": "stream",
     "name": "stdout",
     "text": [
      "0 M3A\n",
      "1 M4A\n",
      " Error 'Location' not found in Geocode! Switching to excel file\n",
      "2 M5A\n",
      " Error 'Location' not found in Geocode! Switching to excel file\n",
      "3 M6A\n",
      " Error 'Location' not found in Geocode! Switching to excel file\n",
      "4 M7A\n",
      "5 M9A\n",
      " Error 'Location' not found in Geocode! Switching to excel file\n",
      "6 M1B\n",
      "7 M3B\n",
      " Error 'Location' not found in Geocode! Switching to excel file\n",
      "8 M4B\n",
      " Error 'Location' not found in Geocode! Switching to excel file\n",
      "9 M5B\n",
      " Error 'Location' not found in Geocode! Switching to excel file\n",
      "10 M6B\n",
      " Error 'Location' not found in Geocode! Switching to excel file\n",
      "11 M9B\n",
      " Error 'Location' not found in Geocode! Switching to excel file\n",
      "12 M1C\n",
      "13 M3C\n",
      "14 M4C\n",
      " Error 'Location' not found in Geocode! Switching to excel file\n",
      "15 M5C\n",
      " Error 'Location' not found in Geocode! Switching to excel file\n",
      "16 M6C\n",
      " Error 'Location' not found in Geocode! Switching to excel file\n",
      "17 M9C\n",
      "18 M1E\n",
      " Error 'Location' not found in Geocode! Switching to excel file\n",
      "19 M4E\n",
      " Error 'Location' not found in Geocode! Switching to excel file\n",
      "20 M5E\n",
      "21 M6E\n",
      " Error 'Location' not found in Geocode! Switching to excel file\n",
      "22 M1G\n",
      "23 M4G\n",
      " Error 'Location' not found in Geocode! Switching to excel file\n",
      "24 M5G\n",
      " Error 'Location' not found in Geocode! Switching to excel file\n",
      "25 M6G\n",
      " Error 'Location' not found in Geocode! Switching to excel file\n",
      "26 M1H\n",
      " Error 'Location' not found in Geocode! Switching to excel file\n",
      "27 M2H\n",
      " Error 'Location' not found in Geocode! Switching to excel file\n",
      "28 M3H\n",
      " Error 'Location' not found in Geocode! Switching to excel file\n",
      "29 M4H\n",
      " Error 'Location' not found in Geocode! Switching to excel file\n",
      "30 M5H\n",
      "31 M6H\n",
      " Error 'Location' not found in Geocode! Switching to excel file\n",
      "32 M1J\n",
      " Error 'Location' not found in Geocode! Switching to excel file\n",
      "33 M2J\n",
      "34 M3J\n",
      " Error 'Location' not found in Geocode! Switching to excel file\n",
      "35 M4J\n",
      " Error 'Location' not found in Geocode! Switching to excel file\n",
      "36 M5J\n",
      "37 M6J\n",
      "38 M1K\n",
      " Error 'Location' not found in Geocode! Switching to excel file\n",
      "39 M2K\n",
      " Error 'Location' not found in Geocode! Switching to excel file\n",
      "40 M3K\n",
      " Error 'Location' not found in Geocode! Switching to excel file\n",
      "41 M4K\n",
      " Error 'Location' not found in Geocode! Switching to excel file\n",
      "42 M5K\n",
      " Error 'Location' not found in Geocode! Switching to excel file\n",
      "43 M6K\n",
      "44 M1L\n",
      " Error 'Location' not found in Geocode! Switching to excel file\n",
      "45 M2L\n",
      " Error 'Location' not found in Geocode! Switching to excel file\n",
      "46 M3L\n",
      " Error 'Location' not found in Geocode! Switching to excel file\n",
      "47 M4L\n",
      "48 M5L\n",
      " Error 'Location' not found in Geocode! Switching to excel file\n",
      "49 M6L\n",
      " Error 'Location' not found in Geocode! Switching to excel file\n",
      "50 M9L\n",
      " Error 'Location' not found in Geocode! Switching to excel file\n",
      "51 M1M\n",
      " Error 'Location' not found in Geocode! Switching to excel file\n",
      "52 M2M\n",
      "53 M3M\n",
      " Error 'Location' not found in Geocode! Switching to excel file\n",
      "54 M4M\n",
      " Error 'Location' not found in Geocode! Switching to excel file\n",
      "55 M5M\n",
      " Error 'Location' not found in Geocode! Switching to excel file\n",
      "56 M6M\n",
      " Error 'Location' not found in Geocode! Switching to excel file\n",
      "57 M9M\n",
      " Error 'Location' not found in Geocode! Switching to excel file\n",
      "58 M1N\n",
      " Error 'Location' not found in Geocode! Switching to excel file\n",
      "59 M2N\n",
      "60 M3N\n",
      " Error 'Location' not found in Geocode! Switching to excel file\n",
      "61 M4N\n",
      " Error 'Location' not found in Geocode! Switching to excel file\n",
      "62 M5N\n",
      " Error 'Location' not found in Geocode! Switching to excel file\n",
      "63 M6N\n",
      "64 M9N\n",
      " Error 'Location' not found in Geocode! Switching to excel file\n",
      "65 M1P\n",
      " Error 'Location' not found in Geocode! Switching to excel file\n",
      "66 M2P\n",
      " Error 'Location' not found in Geocode! Switching to excel file\n",
      "67 M4P\n",
      " Error 'Location' not found in Geocode! Switching to excel file\n",
      "68 M5P\n",
      " Error 'Location' not found in Geocode! Switching to excel file\n",
      "69 M6P\n",
      "70 M9P\n",
      " Error 'Location' not found in Geocode! Switching to excel file\n",
      "71 M1R\n",
      " Error 'Location' not found in Geocode! Switching to excel file\n",
      "72 M2R\n",
      " Error 'Location' not found in Geocode! Switching to excel file\n",
      "73 M4R\n",
      " Error 'Location' not found in Geocode! Switching to excel file\n",
      "74 M5R\n",
      " Error 'Location' not found in Geocode! Switching to excel file\n",
      "75 M6R\n",
      " Error 'Location' not found in Geocode! Switching to excel file\n",
      "76 M7R\n",
      " Error 'Location' not found in Geocode! Switching to excel file\n",
      "77 M9R\n",
      "78 M1S\n",
      " Error 'Location' not found in Geocode! Switching to excel file\n",
      "79 M4S\n",
      " Error 'Location' not found in Geocode! Switching to excel file\n",
      "80 M5S\n",
      " Error 'Location' not found in Geocode! Switching to excel file\n",
      "81 M6S\n",
      "82 M1T\n",
      " Error 'Location' not found in Geocode! Switching to excel file\n",
      "83 M4T\n",
      " Error 'Location' not found in Geocode! Switching to excel file\n",
      "84 M5T\n",
      " Error 'Location' not found in Geocode! Switching to excel file\n",
      "85 M1V\n",
      " Error 'Location' not found in Geocode! Switching to excel file\n",
      "86 M4V\n",
      " Error 'Location' not found in Geocode! Switching to excel file\n",
      "87 M5V\n",
      "88 M8V\n",
      " Error 'Location' not found in Geocode! Switching to excel file\n",
      "89 M9V\n",
      " Error 'Location' not found in Geocode! Switching to excel file\n",
      "90 M1W\n",
      "91 M4W\n",
      " Error 'Location' not found in Geocode! Switching to excel file\n",
      "92 M5W\n",
      " Error 'Location' not found in Geocode! Switching to excel file\n",
      "93 M8W\n",
      " Error 'Location' not found in Geocode! Switching to excel file\n",
      "94 M9W\n",
      " Error 'Location' not found in Geocode! Switching to excel file\n",
      "95 M1X\n",
      " Error 'Location' not found in Geocode! Switching to excel file\n",
      "96 M4X\n",
      "97 M5X\n",
      " Error 'Location' not found in Geocode! Switching to excel file\n",
      "98 M8X\n",
      " Error 'Location' not found in Geocode! Switching to excel file\n",
      "99 M4Y\n",
      " Error 'Location' not found in Geocode! Switching to excel file\n",
      "100 M7Y\n",
      " Error 'Location' not found in Geocode! Switching to excel file\n",
      "101 M8Y\n",
      " Error 'Location' not found in Geocode! Switching to excel file\n",
      "102 M8Z\n",
      " Error 'Location' not found in Geocode! Switching to excel file\n"
     ]
    },
    {
     "output_type": "execute_result",
     "data": {
      "text/plain": [
       "array([43.6534817 , 43.7258823 , 43.6542599 , 43.718518  , 43.6534817 ,\n",
       "       43.6678556 , 43.6534817 , 43.7459058 , 43.7063972 , 43.6571618 ,\n",
       "       43.709577  , 43.6509432 , 43.6534817 , 43.7328216 , 43.6953439 ,\n",
       "       43.6514939 , 43.6937813 , 43.64410993, 43.7635726 , 43.6763574 ,\n",
       "       43.6421064 , 43.6890256 , 43.76571677, 43.7090604 , 43.6579524 ,\n",
       "       43.669542  , 43.773136  , 43.8037622 , 43.7543283 , 43.7053689 ,\n",
       "       43.64990081, 43.6690051 , 43.7447342 , 43.7797719 , 43.7679803 ,\n",
       "       43.685347  , 43.6392586 , 43.6522219 , 43.7279292 , 43.7869473 ,\n",
       "       43.7374732 , 43.6795571 , 43.6471768 , 43.63709691, 43.7111117 ,\n",
       "       43.7574902 , 43.7390146 , 43.6727601 , 43.6481985 , 43.7137562 ,\n",
       "       43.7563033 , 43.716316  , 43.7859621 , 43.7284964 , 43.6595255 ,\n",
       "       43.7332825 , 43.6911158 , 43.7247659 , 43.692657  , 43.77923857,\n",
       "       43.7616313 , 43.7280205 , 43.7116948 , 43.67455325, 43.706876  ,\n",
       "       43.7574096 , 43.7527583 , 43.7127511 , 43.6969476 , 43.66063185,\n",
       "       43.696319  , 43.7500715 , 43.7827364 , 43.7153834 , 43.6727097 ,\n",
       "       43.6489597 , 43.6369656 , 43.69516619, 43.7942003 , 43.7043244 ,\n",
       "       43.6626956 , 43.64987015, 43.7816375 , 43.6895743 , 43.6532057 ,\n",
       "       43.8152522 , 43.6864123 , 43.6456336 , 43.6056466 , 43.7394164 ,\n",
       "       43.81545467, 43.6795626 , 43.6464352 , 43.6024137 , 43.7067483 ,\n",
       "       43.8361247 , 43.6680266 , 43.6484292 , 43.6536536 , 43.6658599 ,\n",
       "       43.6627439 , 43.6362579 , 43.6288408 ])"
      ]
     },
     "metadata": {},
     "execution_count": 21
    }
   ],
   "source": [
    "\n",
    "# Coordinate arrays\n",
    "lat_list=np.array([])\n",
    "long_list=np.array([])\n",
    "\n",
    "for i, pcode in enumerate(df['Postal Code']):\n",
    "    print(i, pcode)\n",
    "    # initialize your variable to None\n",
    "    lat_coords =None\n",
    "    lng_coords =None\n",
    "    \n",
    "\n",
    "    locator = Nominatim(user_agent=\"myGeocoder\")\n",
    "    count = 0\n",
    "    # loop until you get the coordinates\n",
    "    while(lng_coords is None):\n",
    "        location = locator.geocode('{}, Toronto, Ontario'.format(pcode))\n",
    "        try:\n",
    "            lat_coords = location.latitude\n",
    "            lng_coords = location.longitude\n",
    "            # print(\"Coordinates: \"+ str(lat_coords) + \", \"+str(lng_coords) )\n",
    "        except:\n",
    "            lat_coords =None\n",
    "            lng_coords =None\n",
    "\n",
    "        if count == 3:  # the limit\n",
    "            # print(\" Error 'Location' not found in Geocode! Switching to CSV file\")\n",
    "            lat_coords = df_coordinates.loc[ df_coordinates['Postal Code'] == pcode ]['Latitude'].to_list()[0]\n",
    "            lng_coords = df_coordinates.loc[ df_coordinates['Postal Code'] == pcode ]['Longitude'].to_list()[0]\n",
    "            # print(\"\\nCoordinates: \"+ str(lat_coords) + \", \"+str(lng_coords) )\n",
    "        # if count == 3:\n",
    "        #     print(\"Error count = 3\")\n",
    "        #     break\n",
    "\n",
    "        count = count + 1\n",
    "    \n",
    "    lat_list= np.append(lat_list, lat_coords)\n",
    "    long_list= np.append(long_list, lng_coords)\n",
    "\n",
    "lat_list"
   ]
  },
  {
   "cell_type": "code",
   "execution_count": 22,
   "metadata": {},
   "outputs": [
    {
     "output_type": "execute_result",
     "data": {
      "text/plain": [
       "(103,)"
      ]
     },
     "metadata": {},
     "execution_count": 22
    }
   ],
   "source": [
    "lat_list.shape"
   ]
  },
  {
   "source": [
    "The shape is of the correct size"
   ],
   "cell_type": "markdown",
   "metadata": {}
  },
  {
   "cell_type": "code",
   "execution_count": 23,
   "metadata": {},
   "outputs": [
    {
     "output_type": "execute_result",
     "data": {
      "text/plain": [
       "    Postal Code           Borough  \\\n",
       "0           M3A        North York   \n",
       "1           M4A        North York   \n",
       "2           M5A  Downtown Toronto   \n",
       "3           M6A        North York   \n",
       "4           M7A  Downtown Toronto   \n",
       "..          ...               ...   \n",
       "98          M8X         Etobicoke   \n",
       "99          M4Y  Downtown Toronto   \n",
       "100         M7Y      East Toronto   \n",
       "101         M8Y         Etobicoke   \n",
       "102         M8Z         Etobicoke   \n",
       "\n",
       "                                         Neighbourhood   Latitude  Longitude  \n",
       "0                                            Parkwoods  43.653482 -79.383935  \n",
       "1                                     Victoria Village  43.725882 -79.315572  \n",
       "2                            Regent Park, Harbourfront  43.654260 -79.360636  \n",
       "3                     Lawrence Manor, Lawrence Heights  43.718518 -79.464763  \n",
       "4          Queen's Park, Ontario Provincial Government  43.653482 -79.383935  \n",
       "..                                                 ...        ...        ...  \n",
       "98       The Kingsway, Montgomery Road, Old Mill North  43.653654 -79.506944  \n",
       "99                                Church and Wellesley  43.665860 -79.383160  \n",
       "100  Business reply mail Processing Centre, South C...  43.662744 -79.321558  \n",
       "101  Old Mill South, King's Mill Park, Sunnylea, Hu...  43.636258 -79.498509  \n",
       "102  Mimico NW, The Queensway West, South of Bloor,...  43.628841 -79.520999  \n",
       "\n",
       "[103 rows x 5 columns]"
      ],
      "text/html": "<div>\n<style scoped>\n    .dataframe tbody tr th:only-of-type {\n        vertical-align: middle;\n    }\n\n    .dataframe tbody tr th {\n        vertical-align: top;\n    }\n\n    .dataframe thead th {\n        text-align: right;\n    }\n</style>\n<table border=\"1\" class=\"dataframe\">\n  <thead>\n    <tr style=\"text-align: right;\">\n      <th></th>\n      <th>Postal Code</th>\n      <th>Borough</th>\n      <th>Neighbourhood</th>\n      <th>Latitude</th>\n      <th>Longitude</th>\n    </tr>\n  </thead>\n  <tbody>\n    <tr>\n      <th>0</th>\n      <td>M3A</td>\n      <td>North York</td>\n      <td>Parkwoods</td>\n      <td>43.653482</td>\n      <td>-79.383935</td>\n    </tr>\n    <tr>\n      <th>1</th>\n      <td>M4A</td>\n      <td>North York</td>\n      <td>Victoria Village</td>\n      <td>43.725882</td>\n      <td>-79.315572</td>\n    </tr>\n    <tr>\n      <th>2</th>\n      <td>M5A</td>\n      <td>Downtown Toronto</td>\n      <td>Regent Park, Harbourfront</td>\n      <td>43.654260</td>\n      <td>-79.360636</td>\n    </tr>\n    <tr>\n      <th>3</th>\n      <td>M6A</td>\n      <td>North York</td>\n      <td>Lawrence Manor, Lawrence Heights</td>\n      <td>43.718518</td>\n      <td>-79.464763</td>\n    </tr>\n    <tr>\n      <th>4</th>\n      <td>M7A</td>\n      <td>Downtown Toronto</td>\n      <td>Queen's Park, Ontario Provincial Government</td>\n      <td>43.653482</td>\n      <td>-79.383935</td>\n    </tr>\n    <tr>\n      <th>...</th>\n      <td>...</td>\n      <td>...</td>\n      <td>...</td>\n      <td>...</td>\n      <td>...</td>\n    </tr>\n    <tr>\n      <th>98</th>\n      <td>M8X</td>\n      <td>Etobicoke</td>\n      <td>The Kingsway, Montgomery Road, Old Mill North</td>\n      <td>43.653654</td>\n      <td>-79.506944</td>\n    </tr>\n    <tr>\n      <th>99</th>\n      <td>M4Y</td>\n      <td>Downtown Toronto</td>\n      <td>Church and Wellesley</td>\n      <td>43.665860</td>\n      <td>-79.383160</td>\n    </tr>\n    <tr>\n      <th>100</th>\n      <td>M7Y</td>\n      <td>East Toronto</td>\n      <td>Business reply mail Processing Centre, South C...</td>\n      <td>43.662744</td>\n      <td>-79.321558</td>\n    </tr>\n    <tr>\n      <th>101</th>\n      <td>M8Y</td>\n      <td>Etobicoke</td>\n      <td>Old Mill South, King's Mill Park, Sunnylea, Hu...</td>\n      <td>43.636258</td>\n      <td>-79.498509</td>\n    </tr>\n    <tr>\n      <th>102</th>\n      <td>M8Z</td>\n      <td>Etobicoke</td>\n      <td>Mimico NW, The Queensway West, South of Bloor,...</td>\n      <td>43.628841</td>\n      <td>-79.520999</td>\n    </tr>\n  </tbody>\n</table>\n<p>103 rows × 5 columns</p>\n</div>"
     },
     "metadata": {},
     "execution_count": 23
    }
   ],
   "source": [
    "df[\"Latitude\"]=lat_list\n",
    "df[\"Longitude\"]=long_list\n",
    "df"
   ]
  },
  {
   "source": [
    "# Part 3: Analysis\n",
    "\n",
    "explore and cluster neighborhoods. Begin by importing necessary libraries."
   ],
   "cell_type": "markdown",
   "metadata": {}
  },
  {
   "cell_type": "code",
   "execution_count": 24,
   "metadata": {},
   "outputs": [],
   "source": [
    "import json # library to handle JSON files\n",
    "\n",
    "import requests # library to handle requests\n",
    "from pandas.io.json import json_normalize # tranform JSON file into a pandas dataframe\n",
    "\n",
    "# Matplotlib and associated plotting modules\n",
    "import matplotlib.cm as cm\n",
    "import matplotlib.colors as colors\n",
    "\n",
    "# import k-means from clustering stage\n",
    "from sklearn.cluster import KMeans\n",
    "\n",
    "import folium # map rendering library"
   ]
  },
  {
   "source": [
    "The credentials for Foursquare is kept in another file, imported here."
   ],
   "cell_type": "markdown",
   "metadata": {}
  },
  {
   "cell_type": "code",
   "execution_count": 25,
   "metadata": {},
   "outputs": [],
   "source": [
    "# some_file.py\n",
    "import sys\n",
    "# insert at 1, 0 is the script path (or '' in REPL)\n",
    "sys.path.insert(1, '../credentials/')\n",
    "\n",
    "import config"
   ]
  },
  {
   "source": [
    "Continue exploring data "
   ],
   "cell_type": "markdown",
   "metadata": {}
  },
  {
   "cell_type": "code",
   "execution_count": 44,
   "metadata": {},
   "outputs": [
    {
     "output_type": "stream",
     "name": "stdout",
     "text": [
      "The dataframe of size (103, 5) has 10 boroughs and 99 neighborhoods.\n"
     ]
    }
   ],
   "source": [
    "print('The dataframe of size {} has {} boroughs and {} neighborhoods.'.format(\n",
    "        df.shape,\n",
    "        len(df['Borough'].unique()),\n",
    "        len(df['Neighbourhood'].unique())\n",
    "    )\n",
    ")"
   ]
  },
  {
   "source": [
    "### Use geopy library to get the latitude and longitude values of Toronto"
   ],
   "cell_type": "markdown",
   "metadata": {}
  },
  {
   "cell_type": "code",
   "execution_count": 45,
   "metadata": {},
   "outputs": [
    {
     "output_type": "stream",
     "name": "stdout",
     "text": [
      "The geograpical coordinate of Toronto are 43.6534817, -79.3839347.\n"
     ]
    }
   ],
   "source": [
    "address = 'Toronto, Canada'\n",
    "\n",
    "geolocator = Nominatim(user_agent=\"to_explorer\")\n",
    "location = geolocator.geocode(address)\n",
    "to_latitude = location.latitude\n",
    "to_longitude = location.longitude\n",
    "print('The geograpical coordinate of Toronto are {}, {}.'.format(to_latitude, to_longitude))"
   ]
  },
  {
   "cell_type": "code",
   "execution_count": 46,
   "metadata": {},
   "outputs": [
    {
     "output_type": "execute_result",
     "data": {
      "text/plain": [
       "<folium.folium.Map at 0x24cd5b5e850>"
      ],
      "text/html": "<div style=\"width:100%;\"><div style=\"position:relative;width:100%;height:0;padding-bottom:60%;\"><span style=\"color:#565656\">Make this Notebook Trusted to load map: File -> Trust Notebook</span><iframe src=\"about:blank\" style=\"position:absolute;width:100%;height:100%;left:0;top:0;border:none !important;\" data-html=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 onload=\"this.contentDocument.open();this.contentDocument.write(atob(this.getAttribute('data-html')));this.contentDocument.close();\" allowfullscreen webkitallowfullscreen mozallowfullscreen></iframe></div></div>"
     },
     "metadata": {},
     "execution_count": 46
    }
   ],
   "source": [
    "# create map of New York using latitude and longitude values\n",
    "map_toronto = folium.Map(location=[to_latitude, to_longitude], zoom_start=10)\n",
    "\n",
    "# add markers to map\n",
    "for lat, lng, borough, neighborhood in zip(df['Latitude'], df['Longitude'], df['Borough'], df['Neighbourhood']):\n",
    "    label = '{}, {}'.format(neighborhood, borough)\n",
    "    label = folium.Popup(label, parse_html=True)\n",
    "    folium.CircleMarker(\n",
    "        [lat, lng],\n",
    "        radius=5,\n",
    "        popup=label,\n",
    "        color='blue',\n",
    "        fill=True,\n",
    "        fill_color='#3186cc',\n",
    "        fill_opacity=0.7,\n",
    "        parse_html=False).add_to(map_toronto)  \n",
    "    \n",
    "map_toronto"
   ]
  },
  {
   "source": [
    "#### Define Foursquare Credentials and Version"
   ],
   "cell_type": "markdown",
   "metadata": {}
  },
  {
   "cell_type": "code",
   "execution_count": 30,
   "metadata": {},
   "outputs": [],
   "source": [
    "# the credentials for Foursquared is stored in another file\n",
    "CLIENT_ID=config.client_id\n",
    "CLIENT_SECRET=config.client_secret\n",
    "VERSION = '20180605' # Foursquare API version\n",
    "LIMIT = 100 # A default Foursquare API limit value"
   ]
  },
  {
   "source": [
    "### Explore the first neighborhood of Toronto"
   ],
   "cell_type": "markdown",
   "metadata": {}
  },
  {
   "cell_type": "code",
   "execution_count": 31,
   "metadata": {},
   "outputs": [
    {
     "output_type": "execute_result",
     "data": {
      "text/plain": [
       "'Parkwoods'"
      ]
     },
     "metadata": {},
     "execution_count": 31
    }
   ],
   "source": [
    "df.loc[0, 'Neighbourhood']"
   ]
  },
  {
   "cell_type": "code",
   "execution_count": 33,
   "metadata": {},
   "outputs": [
    {
     "output_type": "stream",
     "name": "stdout",
     "text": [
      "Latitude and longitude values of Parkwoods are 43.6534817, -79.3839347.\n"
     ]
    }
   ],
   "source": [
    "neighborhood_latitude = df.loc[0, 'Latitude'] # neighborhood latitude value\n",
    "neighborhood_longitude = df.loc[0, 'Longitude'] # neighborhood longitude value\n",
    "\n",
    "neighborhood_name = df.loc[0, 'Neighbourhood'] # neighborhood name\n",
    "\n",
    "print('Latitude and longitude values of {} are {}, {}.'.format(neighborhood_name, \n",
    "                                                               neighborhood_latitude, \n",
    "                                                               neighborhood_longitude))"
   ]
  },
  {
   "source": [
    "### Now, let's get the top 100 venues that are in 'Parkwoods' within 500 meters.\n",
    "\n",
    "First, create the GET request URL"
   ],
   "cell_type": "markdown",
   "metadata": {}
  },
  {
   "cell_type": "code",
   "execution_count": 34,
   "metadata": {},
   "outputs": [],
   "source": [
    "LIMIT = 100 # limit of number of venues returned by Foursquare API\n",
    "radius = 500 # define radius"
   ]
  },
  {
   "cell_type": "code",
   "execution_count": 38,
   "metadata": {},
   "outputs": [],
   "source": [
    "url = 'https://api.foursquare.com/v2/venues/explore?client_id={}&client_secret={}&ll={},{}&v={}&radius={}&limit={}'.format(CLIENT_ID, CLIENT_SECRET, neighborhood_latitude, neighborhood_longitude, VERSION, radius, LIMIT)"
   ]
  },
  {
   "source": [
    "Send Get request and examine results"
   ],
   "cell_type": "markdown",
   "metadata": {}
  },
  {
   "source": [
    "results = requests.get(url).json()"
   ],
   "cell_type": "code",
   "metadata": {},
   "execution_count": 39,
   "outputs": []
  },
  {
   "source": [
    "Use the function 'get_category_type' from below to help filter the JSON file"
   ],
   "cell_type": "markdown",
   "metadata": {}
  },
  {
   "cell_type": "code",
   "execution_count": 40,
   "metadata": {},
   "outputs": [],
   "source": [
    "# function that extracts the category of the venue\n",
    "def get_category_type(row):\n",
    "    try:\n",
    "        categories_list = row['categories']\n",
    "    except:\n",
    "        categories_list = row['venue.categories']\n",
    "        \n",
    "    if len(categories_list) == 0:\n",
    "        return None\n",
    "    else:\n",
    "        return categories_list[0]['name']"
   ]
  },
  {
   "cell_type": "code",
   "execution_count": 41,
   "metadata": {},
   "outputs": [
    {
     "output_type": "execute_result",
     "data": {
      "text/plain": [
       "                                name        categories        lat        lng\n",
       "0                   Downtown Toronto      Neighborhood  43.653232 -79.385296\n",
       "1             Nathan Phillips Square             Plaza  43.652270 -79.383516\n",
       "2  Eggspectation Bell Trinity Square    Breakfast Spot  43.653144 -79.381980\n",
       "3                            Japango  Sushi Restaurant  43.655268 -79.385165\n",
       "4                             Indigo         Bookstore  43.653515 -79.380696"
      ],
      "text/html": "<div>\n<style scoped>\n    .dataframe tbody tr th:only-of-type {\n        vertical-align: middle;\n    }\n\n    .dataframe tbody tr th {\n        vertical-align: top;\n    }\n\n    .dataframe thead th {\n        text-align: right;\n    }\n</style>\n<table border=\"1\" class=\"dataframe\">\n  <thead>\n    <tr style=\"text-align: right;\">\n      <th></th>\n      <th>name</th>\n      <th>categories</th>\n      <th>lat</th>\n      <th>lng</th>\n    </tr>\n  </thead>\n  <tbody>\n    <tr>\n      <th>0</th>\n      <td>Downtown Toronto</td>\n      <td>Neighborhood</td>\n      <td>43.653232</td>\n      <td>-79.385296</td>\n    </tr>\n    <tr>\n      <th>1</th>\n      <td>Nathan Phillips Square</td>\n      <td>Plaza</td>\n      <td>43.652270</td>\n      <td>-79.383516</td>\n    </tr>\n    <tr>\n      <th>2</th>\n      <td>Eggspectation Bell Trinity Square</td>\n      <td>Breakfast Spot</td>\n      <td>43.653144</td>\n      <td>-79.381980</td>\n    </tr>\n    <tr>\n      <th>3</th>\n      <td>Japango</td>\n      <td>Sushi Restaurant</td>\n      <td>43.655268</td>\n      <td>-79.385165</td>\n    </tr>\n    <tr>\n      <th>4</th>\n      <td>Indigo</td>\n      <td>Bookstore</td>\n      <td>43.653515</td>\n      <td>-79.380696</td>\n    </tr>\n  </tbody>\n</table>\n</div>"
     },
     "metadata": {},
     "execution_count": 41
    }
   ],
   "source": [
    "venues = results['response']['groups'][0]['items']\n",
    "    \n",
    "nearby_venues = json_normalize(venues) # flatten JSON\n",
    "\n",
    "# filter columns\n",
    "filtered_columns = ['venue.name', 'venue.categories', 'venue.location.lat', 'venue.location.lng']\n",
    "nearby_venues =nearby_venues.loc[:, filtered_columns]\n",
    "\n",
    "# filter the category for each row\n",
    "nearby_venues['venue.categories'] = nearby_venues.apply(get_category_type, axis=1)\n",
    "\n",
    "# clean columns\n",
    "nearby_venues.columns = [col.split(\".\")[-1] for col in nearby_venues.columns]\n",
    "\n",
    "nearby_venues.head()"
   ]
  },
  {
   "cell_type": "code",
   "execution_count": 42,
   "metadata": {},
   "outputs": [
    {
     "output_type": "stream",
     "name": "stdout",
     "text": [
      "90 venues were returned by Foursquare.\n"
     ]
    }
   ],
   "source": [
    "print('{} venues were returned by Foursquare.'.format(nearby_venues.shape[0]))"
   ]
  },
  {
   "source": [
    "## Explore all the neighborhoods in Toronto \n",
    "\n",
    "Create a function to repeat the same process for all neighborhoods in Toronto."
   ],
   "cell_type": "markdown",
   "metadata": {}
  },
  {
   "cell_type": "code",
   "execution_count": 47,
   "metadata": {},
   "outputs": [],
   "source": [
    "def getNearbyVenues(names, latitudes, longitudes, radius=500):\n",
    "    \n",
    "    venues_list=[]\n",
    "    for name, lat, lng in zip(names, latitudes, longitudes):\n",
    "        print(name)\n",
    "            \n",
    "        # create the API request URL\n",
    "        url = 'https://api.foursquare.com/v2/venues/explore?&client_id={}&client_secret={}&v={}&ll={},{}&radius={}&limit={}'.format(\n",
    "            CLIENT_ID, \n",
    "            CLIENT_SECRET, \n",
    "            VERSION, \n",
    "            lat, \n",
    "            lng, \n",
    "            radius, \n",
    "            LIMIT)\n",
    "            \n",
    "        # make the GET request\n",
    "        results = requests.get(url).json()[\"response\"]['groups'][0]['items']\n",
    "        \n",
    "        # return only relevant information for each nearby venue\n",
    "        venues_list.append([(\n",
    "            name, \n",
    "            lat, \n",
    "            lng, \n",
    "            v['venue']['name'], \n",
    "            v['venue']['location']['lat'], \n",
    "            v['venue']['location']['lng'],  \n",
    "            v['venue']['categories'][0]['name']) for v in results])\n",
    "\n",
    "    nearby_venues = pd.DataFrame([item for venue_list in venues_list for item in venue_list])\n",
    "    nearby_venues.columns = ['Neighborhood', \n",
    "                  'Neighborhood Latitude', \n",
    "                  'Neighborhood Longitude', \n",
    "                  'Venue', \n",
    "                  'Venue Latitude', \n",
    "                  'Venue Longitude', \n",
    "                  'Venue Category']\n",
    "    \n",
    "    return(nearby_venues)"
   ]
  },
  {
   "source": [
    "run the above function"
   ],
   "cell_type": "markdown",
   "metadata": {}
  },
  {
   "cell_type": "code",
   "execution_count": 53,
   "metadata": {},
   "outputs": [
    {
     "output_type": "stream",
     "name": "stdout",
     "text": [
      "Parkwoods\n",
      "Victoria Village\n",
      "Regent Park, Harbourfront\n",
      "Lawrence Manor, Lawrence Heights\n",
      "Queen's Park, Ontario Provincial Government\n",
      "Islington Avenue, Humber Valley Village\n",
      "Malvern, Rouge\n",
      "Don Mills\n",
      "Parkview Hill, Woodbine Gardens\n",
      "Garden District, Ryerson\n",
      "Glencairn\n",
      "West Deane Park, Princess Gardens, Martin Grove, Islington, Cloverdale\n",
      "Rouge Hill, Port Union, Highland Creek\n",
      "Don Mills\n",
      "Woodbine Heights\n",
      "St. James Town\n",
      "Humewood-Cedarvale\n",
      "Eringate, Bloordale Gardens, Old Burnhamthorpe, Markland Wood\n",
      "Guildwood, Morningside, West Hill\n",
      "The Beaches\n",
      "Berczy Park\n",
      "Caledonia-Fairbanks\n",
      "Woburn\n",
      "Leaside\n",
      "Central Bay Street\n",
      "Christie\n",
      "Cedarbrae\n",
      "Hillcrest Village\n",
      "Bathurst Manor, Wilson Heights, Downsview North\n",
      "Thorncliffe Park\n",
      "Richmond, Adelaide, King\n",
      "Dufferin, Dovercourt Village\n",
      "Scarborough Village\n",
      "Fairview, Henry Farm, Oriole\n",
      "Northwood Park, York University\n",
      "East Toronto, Broadview North (Old East York)\n",
      "Harbourfront East, Union Station, Toronto Islands\n",
      "Little Portugal, Trinity\n",
      "Kennedy Park, Ionview, East Birchmount Park\n",
      "Bayview Village\n",
      "Downsview\n",
      "The Danforth West, Riverdale\n",
      "Toronto Dominion Centre, Design Exchange\n",
      "Brockton, Parkdale Village, Exhibition Place\n",
      "Golden Mile, Clairlea, Oakridge\n",
      "York Mills, Silver Hills\n",
      "Downsview\n",
      "India Bazaar, The Beaches West\n",
      "Commerce Court, Victoria Hotel\n",
      "North Park, Maple Leaf Park, Upwood Park\n",
      "Humber Summit\n",
      "Cliffside, Cliffcrest, Scarborough Village West\n",
      "Willowdale, Newtonbrook\n",
      "Downsview\n",
      "Studio District\n",
      "Bedford Park, Lawrence Manor East\n",
      "Del Ray, Mount Dennis, Keelsdale and Silverthorn\n",
      "Humberlea, Emery\n",
      "Birch Cliff, Cliffside West\n",
      "Willowdale, Willowdale East\n",
      "Downsview\n",
      "Lawrence Park\n",
      "Roselawn\n",
      "Runnymede, The Junction North\n",
      "Weston\n",
      "Dorset Park, Wexford Heights, Scarborough Town Centre\n",
      "York Mills West\n",
      "Davisville North\n",
      "Forest Hill North & West, Forest Hill Road Park\n",
      "High Park, The Junction South\n",
      "Westmount\n",
      "Wexford, Maryvale\n",
      "Willowdale, Willowdale West\n",
      "North Toronto West, Lawrence Park\n",
      "The Annex, North Midtown, Yorkville\n",
      "Parkdale, Roncesvalles\n",
      "Canada Post Gateway Processing Centre\n",
      "Kingsview Village, St. Phillips, Martin Grove Gardens, Richview Gardens\n",
      "Agincourt\n",
      "Davisville\n",
      "University of Toronto, Harbord\n",
      "Runnymede, Swansea\n",
      "Clarks Corners, Tam O'Shanter, Sullivan\n",
      "Moore Park, Summerhill East\n",
      "Kensington Market, Chinatown, Grange Park\n",
      "Milliken, Agincourt North, Steeles East, L'Amoreaux East\n",
      "Summerhill West, Rathnelly, South Hill, Forest Hill SE, Deer Park\n",
      "CN Tower, King and Spadina, Railway Lands, Harbourfront West, Bathurst Quay, South Niagara, Island airport\n",
      "New Toronto, Mimico South, Humber Bay Shores\n",
      "South Steeles, Silverstone, Humbergate, Jamestown, Mount Olive, Beaumond Heights, Thistletown, Albion Gardens\n",
      "Steeles West, L'Amoreaux West\n",
      "Rosedale\n",
      "Stn A PO Boxes\n",
      "Alderwood, Long Branch\n",
      "Northwest, West Humber - Clairville\n",
      "Upper Rouge\n",
      "St. James Town, Cabbagetown\n",
      "First Canadian Place, Underground city\n",
      "The Kingsway, Montgomery Road, Old Mill North\n",
      "Church and Wellesley\n",
      "Business reply mail Processing Centre, South Central Letter Processing Plant Toronto\n",
      "Old Mill South, King's Mill Park, Sunnylea, Humber Bay, Mimico NE, The Queensway East, Royal York South East, Kingsway Park South East\n",
      "Mimico NW, The Queensway West, South of Bloor, Kingsway Park South West, Royal York South West\n"
     ]
    }
   ],
   "source": [
    "toronto_venues = getNearbyVenues(names=df['Neighbourhood'],\n",
    "                                   latitudes=df['Latitude'],\n",
    "                                   longitudes=df['Longitude']\n",
    "                                  )"
   ]
  },
  {
   "cell_type": "code",
   "execution_count": 54,
   "metadata": {},
   "outputs": [
    {
     "output_type": "stream",
     "name": "stdout",
     "text": [
      "(2598, 7)\n"
     ]
    },
    {
     "output_type": "execute_result",
     "data": {
      "text/plain": [
       "  Neighborhood  Neighborhood Latitude  Neighborhood Longitude  \\\n",
       "0    Parkwoods              43.653482              -79.383935   \n",
       "1    Parkwoods              43.653482              -79.383935   \n",
       "2    Parkwoods              43.653482              -79.383935   \n",
       "3    Parkwoods              43.653482              -79.383935   \n",
       "4    Parkwoods              43.653482              -79.383935   \n",
       "\n",
       "                               Venue  Venue Latitude  Venue Longitude  \\\n",
       "0                   Downtown Toronto       43.653232       -79.385296   \n",
       "1             Nathan Phillips Square       43.652270       -79.383516   \n",
       "2  Eggspectation Bell Trinity Square       43.653144       -79.381980   \n",
       "3                            Japango       43.655268       -79.385165   \n",
       "4                             Indigo       43.653515       -79.380696   \n",
       "\n",
       "     Venue Category  \n",
       "0      Neighborhood  \n",
       "1             Plaza  \n",
       "2    Breakfast Spot  \n",
       "3  Sushi Restaurant  \n",
       "4         Bookstore  "
      ],
      "text/html": "<div>\n<style scoped>\n    .dataframe tbody tr th:only-of-type {\n        vertical-align: middle;\n    }\n\n    .dataframe tbody tr th {\n        vertical-align: top;\n    }\n\n    .dataframe thead th {\n        text-align: right;\n    }\n</style>\n<table border=\"1\" class=\"dataframe\">\n  <thead>\n    <tr style=\"text-align: right;\">\n      <th></th>\n      <th>Neighborhood</th>\n      <th>Neighborhood Latitude</th>\n      <th>Neighborhood Longitude</th>\n      <th>Venue</th>\n      <th>Venue Latitude</th>\n      <th>Venue Longitude</th>\n      <th>Venue Category</th>\n    </tr>\n  </thead>\n  <tbody>\n    <tr>\n      <th>0</th>\n      <td>Parkwoods</td>\n      <td>43.653482</td>\n      <td>-79.383935</td>\n      <td>Downtown Toronto</td>\n      <td>43.653232</td>\n      <td>-79.385296</td>\n      <td>Neighborhood</td>\n    </tr>\n    <tr>\n      <th>1</th>\n      <td>Parkwoods</td>\n      <td>43.653482</td>\n      <td>-79.383935</td>\n      <td>Nathan Phillips Square</td>\n      <td>43.652270</td>\n      <td>-79.383516</td>\n      <td>Plaza</td>\n    </tr>\n    <tr>\n      <th>2</th>\n      <td>Parkwoods</td>\n      <td>43.653482</td>\n      <td>-79.383935</td>\n      <td>Eggspectation Bell Trinity Square</td>\n      <td>43.653144</td>\n      <td>-79.381980</td>\n      <td>Breakfast Spot</td>\n    </tr>\n    <tr>\n      <th>3</th>\n      <td>Parkwoods</td>\n      <td>43.653482</td>\n      <td>-79.383935</td>\n      <td>Japango</td>\n      <td>43.655268</td>\n      <td>-79.385165</td>\n      <td>Sushi Restaurant</td>\n    </tr>\n    <tr>\n      <th>4</th>\n      <td>Parkwoods</td>\n      <td>43.653482</td>\n      <td>-79.383935</td>\n      <td>Indigo</td>\n      <td>43.653515</td>\n      <td>-79.380696</td>\n      <td>Bookstore</td>\n    </tr>\n  </tbody>\n</table>\n</div>"
     },
     "metadata": {},
     "execution_count": 54
    }
   ],
   "source": [
    "print(toronto_venues.shape)\n",
    "toronto_venues.head()"
   ]
  },
  {
   "cell_type": "code",
   "execution_count": 55,
   "metadata": {},
   "outputs": [
    {
     "output_type": "stream",
     "name": "stdout",
     "text": [
      "There are 281 uniques categories.\n"
     ]
    }
   ],
   "source": [
    "print('There are {} uniques categories.'.format(len(toronto_venues['Venue Category'].unique())))"
   ]
  },
  {
   "source": [
    "## Analyze each Neighbourhood"
   ],
   "cell_type": "markdown",
   "metadata": {}
  },
  {
   "cell_type": "code",
   "execution_count": 56,
   "metadata": {},
   "outputs": [
    {
     "output_type": "execute_result",
     "data": {
      "text/plain": [
       "   Yoga Studio  Accessories Store  Afghan Restaurant  Airport  \\\n",
       "0            0                  0                  0        0   \n",
       "1            0                  0                  0        0   \n",
       "2            0                  0                  0        0   \n",
       "3            0                  0                  0        0   \n",
       "4            0                  0                  0        0   \n",
       "\n",
       "   American Restaurant  Antique Shop  Aquarium  Arcade  Art Gallery  \\\n",
       "0                    0             0         0       0            0   \n",
       "1                    0             0         0       0            0   \n",
       "2                    0             0         0       0            0   \n",
       "3                    0             0         0       0            0   \n",
       "4                    0             0         0       0            0   \n",
       "\n",
       "   Art Museum  ...  Vegetarian / Vegan Restaurant  Video Game Store  \\\n",
       "0           0  ...                              0                 0   \n",
       "1           0  ...                              0                 0   \n",
       "2           0  ...                              0                 0   \n",
       "3           0  ...                              0                 0   \n",
       "4           0  ...                              0                 0   \n",
       "\n",
       "   Vietnamese Restaurant  Warehouse Store  Whisky Bar  Wine Bar  Wine Shop  \\\n",
       "0                      0                0           0         0          0   \n",
       "1                      0                0           0         0          0   \n",
       "2                      0                0           0         0          0   \n",
       "3                      0                0           0         0          0   \n",
       "4                      0                0           0         0          0   \n",
       "\n",
       "   Wings Joint  Women's Store  Xinjiang Restaurant  \n",
       "0            0              0                    0  \n",
       "1            0              0                    0  \n",
       "2            0              0                    0  \n",
       "3            0              0                    0  \n",
       "4            0              0                    0  \n",
       "\n",
       "[5 rows x 281 columns]"
      ],
      "text/html": "<div>\n<style scoped>\n    .dataframe tbody tr th:only-of-type {\n        vertical-align: middle;\n    }\n\n    .dataframe tbody tr th {\n        vertical-align: top;\n    }\n\n    .dataframe thead th {\n        text-align: right;\n    }\n</style>\n<table border=\"1\" class=\"dataframe\">\n  <thead>\n    <tr style=\"text-align: right;\">\n      <th></th>\n      <th>Yoga Studio</th>\n      <th>Accessories Store</th>\n      <th>Afghan Restaurant</th>\n      <th>Airport</th>\n      <th>American Restaurant</th>\n      <th>Antique Shop</th>\n      <th>Aquarium</th>\n      <th>Arcade</th>\n      <th>Art Gallery</th>\n      <th>Art Museum</th>\n      <th>...</th>\n      <th>Vegetarian / Vegan Restaurant</th>\n      <th>Video Game Store</th>\n      <th>Vietnamese Restaurant</th>\n      <th>Warehouse Store</th>\n      <th>Whisky Bar</th>\n      <th>Wine Bar</th>\n      <th>Wine Shop</th>\n      <th>Wings Joint</th>\n      <th>Women's Store</th>\n      <th>Xinjiang Restaurant</th>\n    </tr>\n  </thead>\n  <tbody>\n    <tr>\n      <th>0</th>\n      <td>0</td>\n      <td>0</td>\n      <td>0</td>\n      <td>0</td>\n      <td>0</td>\n      <td>0</td>\n      <td>0</td>\n      <td>0</td>\n      <td>0</td>\n      <td>0</td>\n      <td>...</td>\n      <td>0</td>\n      <td>0</td>\n      <td>0</td>\n      <td>0</td>\n      <td>0</td>\n      <td>0</td>\n      <td>0</td>\n      <td>0</td>\n      <td>0</td>\n      <td>0</td>\n    </tr>\n    <tr>\n      <th>1</th>\n      <td>0</td>\n      <td>0</td>\n      <td>0</td>\n      <td>0</td>\n      <td>0</td>\n      <td>0</td>\n      <td>0</td>\n      <td>0</td>\n      <td>0</td>\n      <td>0</td>\n      <td>...</td>\n      <td>0</td>\n      <td>0</td>\n      <td>0</td>\n      <td>0</td>\n      <td>0</td>\n      <td>0</td>\n      <td>0</td>\n      <td>0</td>\n      <td>0</td>\n      <td>0</td>\n    </tr>\n    <tr>\n      <th>2</th>\n      <td>0</td>\n      <td>0</td>\n      <td>0</td>\n      <td>0</td>\n      <td>0</td>\n      <td>0</td>\n      <td>0</td>\n      <td>0</td>\n      <td>0</td>\n      <td>0</td>\n      <td>...</td>\n      <td>0</td>\n      <td>0</td>\n      <td>0</td>\n      <td>0</td>\n      <td>0</td>\n      <td>0</td>\n      <td>0</td>\n      <td>0</td>\n      <td>0</td>\n      <td>0</td>\n    </tr>\n    <tr>\n      <th>3</th>\n      <td>0</td>\n      <td>0</td>\n      <td>0</td>\n      <td>0</td>\n      <td>0</td>\n      <td>0</td>\n      <td>0</td>\n      <td>0</td>\n      <td>0</td>\n      <td>0</td>\n      <td>...</td>\n      <td>0</td>\n      <td>0</td>\n      <td>0</td>\n      <td>0</td>\n      <td>0</td>\n      <td>0</td>\n      <td>0</td>\n      <td>0</td>\n      <td>0</td>\n      <td>0</td>\n    </tr>\n    <tr>\n      <th>4</th>\n      <td>0</td>\n      <td>0</td>\n      <td>0</td>\n      <td>0</td>\n      <td>0</td>\n      <td>0</td>\n      <td>0</td>\n      <td>0</td>\n      <td>0</td>\n      <td>0</td>\n      <td>...</td>\n      <td>0</td>\n      <td>0</td>\n      <td>0</td>\n      <td>0</td>\n      <td>0</td>\n      <td>0</td>\n      <td>0</td>\n      <td>0</td>\n      <td>0</td>\n      <td>0</td>\n    </tr>\n  </tbody>\n</table>\n<p>5 rows × 281 columns</p>\n</div>"
     },
     "metadata": {},
     "execution_count": 56
    }
   ],
   "source": [
    "# one hot encoding\n",
    "toronto_onehot = pd.get_dummies(toronto_venues[['Venue Category']], prefix=\"\", prefix_sep=\"\")\n",
    "\n",
    "# add neighborhood column back to dataframe\n",
    "toronto_onehot['Neighborhood'] = toronto_venues['Neighborhood'] \n",
    "\n",
    "# move neighborhood column to the first column\n",
    "fixed_columns = [toronto_onehot.columns[-1]] + list(toronto_onehot.columns[:-1])\n",
    "toronto_onehot = toronto_onehot[fixed_columns]\n",
    "\n",
    "toronto_onehot.head()"
   ]
  },
  {
   "cell_type": "code",
   "execution_count": 57,
   "metadata": {},
   "outputs": [
    {
     "output_type": "execute_result",
     "data": {
      "text/plain": [
       "(2598, 281)"
      ]
     },
     "metadata": {},
     "execution_count": 57
    }
   ],
   "source": [
    "toronto_onehot.shape"
   ]
  },
  {
   "source": [
    "Next, let's group rows by neighborhood and by taking the mean of the frequency of occurrence of each category"
   ],
   "cell_type": "markdown",
   "metadata": {}
  },
  {
   "cell_type": "code",
   "execution_count": 67,
   "metadata": {},
   "outputs": [
    {
     "output_type": "execute_result",
     "data": {
      "text/plain": [
       "                                      Neighborhood  Yoga Studio  \\\n",
       "0                                        Agincourt          0.0   \n",
       "1                           Alderwood, Long Branch          0.0   \n",
       "2  Bathurst Manor, Wilson Heights, Downsview North          0.0   \n",
       "3                                  Bayview Village          0.0   \n",
       "4                Bedford Park, Lawrence Manor East          0.0   \n",
       "\n",
       "   Accessories Store  Afghan Restaurant  Airport  American Restaurant  \\\n",
       "0                0.0                0.0      0.0             0.000000   \n",
       "1                0.0                0.0      0.0             0.000000   \n",
       "2                0.0                0.0      0.0             0.000000   \n",
       "3                0.0                0.0      0.0             0.000000   \n",
       "4                0.0                0.0      0.0             0.045455   \n",
       "\n",
       "   Antique Shop  Aquarium  Arcade  Art Gallery  ...  \\\n",
       "0           0.0       0.0     0.0          0.0  ...   \n",
       "1           0.0       0.0     0.0          0.0  ...   \n",
       "2           0.0       0.0     0.0          0.0  ...   \n",
       "3           0.0       0.0     0.0          0.0  ...   \n",
       "4           0.0       0.0     0.0          0.0  ...   \n",
       "\n",
       "   Vegetarian / Vegan Restaurant  Video Game Store  Vietnamese Restaurant  \\\n",
       "0                            0.0               0.0                    0.0   \n",
       "1                            0.0               0.0                    0.0   \n",
       "2                            0.0               0.0                    0.0   \n",
       "3                            0.0               0.0                    0.0   \n",
       "4                            0.0               0.0                    0.0   \n",
       "\n",
       "   Warehouse Store  Whisky Bar  Wine Bar  Wine Shop  Wings Joint  \\\n",
       "0              0.0         0.0       0.0        0.0          0.0   \n",
       "1              0.0         0.0       0.0        0.0          0.0   \n",
       "2              0.0         0.0       0.0        0.0          0.0   \n",
       "3              0.0         0.0       0.0        0.0          0.0   \n",
       "4              0.0         0.0       0.0        0.0          0.0   \n",
       "\n",
       "   Women's Store  Xinjiang Restaurant  \n",
       "0            0.0                  0.0  \n",
       "1            0.0                  0.0  \n",
       "2            0.0                  0.0  \n",
       "3            0.0                  0.0  \n",
       "4            0.0                  0.0  \n",
       "\n",
       "[5 rows x 281 columns]"
      ],
      "text/html": "<div>\n<style scoped>\n    .dataframe tbody tr th:only-of-type {\n        vertical-align: middle;\n    }\n\n    .dataframe tbody tr th {\n        vertical-align: top;\n    }\n\n    .dataframe thead th {\n        text-align: right;\n    }\n</style>\n<table border=\"1\" class=\"dataframe\">\n  <thead>\n    <tr style=\"text-align: right;\">\n      <th></th>\n      <th>Neighborhood</th>\n      <th>Yoga Studio</th>\n      <th>Accessories Store</th>\n      <th>Afghan Restaurant</th>\n      <th>Airport</th>\n      <th>American Restaurant</th>\n      <th>Antique Shop</th>\n      <th>Aquarium</th>\n      <th>Arcade</th>\n      <th>Art Gallery</th>\n      <th>...</th>\n      <th>Vegetarian / Vegan Restaurant</th>\n      <th>Video Game Store</th>\n      <th>Vietnamese Restaurant</th>\n      <th>Warehouse Store</th>\n      <th>Whisky Bar</th>\n      <th>Wine Bar</th>\n      <th>Wine Shop</th>\n      <th>Wings Joint</th>\n      <th>Women's Store</th>\n      <th>Xinjiang Restaurant</th>\n    </tr>\n  </thead>\n  <tbody>\n    <tr>\n      <th>0</th>\n      <td>Agincourt</td>\n      <td>0.0</td>\n      <td>0.0</td>\n      <td>0.0</td>\n      <td>0.0</td>\n      <td>0.000000</td>\n      <td>0.0</td>\n      <td>0.0</td>\n      <td>0.0</td>\n      <td>0.0</td>\n      <td>...</td>\n      <td>0.0</td>\n      <td>0.0</td>\n      <td>0.0</td>\n      <td>0.0</td>\n      <td>0.0</td>\n      <td>0.0</td>\n      <td>0.0</td>\n      <td>0.0</td>\n      <td>0.0</td>\n      <td>0.0</td>\n    </tr>\n    <tr>\n      <th>1</th>\n      <td>Alderwood, Long Branch</td>\n      <td>0.0</td>\n      <td>0.0</td>\n      <td>0.0</td>\n      <td>0.0</td>\n      <td>0.000000</td>\n      <td>0.0</td>\n      <td>0.0</td>\n      <td>0.0</td>\n      <td>0.0</td>\n      <td>...</td>\n      <td>0.0</td>\n      <td>0.0</td>\n      <td>0.0</td>\n      <td>0.0</td>\n      <td>0.0</td>\n      <td>0.0</td>\n      <td>0.0</td>\n      <td>0.0</td>\n      <td>0.0</td>\n      <td>0.0</td>\n    </tr>\n    <tr>\n      <th>2</th>\n      <td>Bathurst Manor, Wilson Heights, Downsview North</td>\n      <td>0.0</td>\n      <td>0.0</td>\n      <td>0.0</td>\n      <td>0.0</td>\n      <td>0.000000</td>\n      <td>0.0</td>\n      <td>0.0</td>\n      <td>0.0</td>\n      <td>0.0</td>\n      <td>...</td>\n      <td>0.0</td>\n      <td>0.0</td>\n      <td>0.0</td>\n      <td>0.0</td>\n      <td>0.0</td>\n      <td>0.0</td>\n      <td>0.0</td>\n      <td>0.0</td>\n      <td>0.0</td>\n      <td>0.0</td>\n    </tr>\n    <tr>\n      <th>3</th>\n      <td>Bayview Village</td>\n      <td>0.0</td>\n      <td>0.0</td>\n      <td>0.0</td>\n      <td>0.0</td>\n      <td>0.000000</td>\n      <td>0.0</td>\n      <td>0.0</td>\n      <td>0.0</td>\n      <td>0.0</td>\n      <td>...</td>\n      <td>0.0</td>\n      <td>0.0</td>\n      <td>0.0</td>\n      <td>0.0</td>\n      <td>0.0</td>\n      <td>0.0</td>\n      <td>0.0</td>\n      <td>0.0</td>\n      <td>0.0</td>\n      <td>0.0</td>\n    </tr>\n    <tr>\n      <th>4</th>\n      <td>Bedford Park, Lawrence Manor East</td>\n      <td>0.0</td>\n      <td>0.0</td>\n      <td>0.0</td>\n      <td>0.0</td>\n      <td>0.045455</td>\n      <td>0.0</td>\n      <td>0.0</td>\n      <td>0.0</td>\n      <td>0.0</td>\n      <td>...</td>\n      <td>0.0</td>\n      <td>0.0</td>\n      <td>0.0</td>\n      <td>0.0</td>\n      <td>0.0</td>\n      <td>0.0</td>\n      <td>0.0</td>\n      <td>0.0</td>\n      <td>0.0</td>\n      <td>0.0</td>\n    </tr>\n  </tbody>\n</table>\n<p>5 rows × 281 columns</p>\n</div>"
     },
     "metadata": {},
     "execution_count": 67
    }
   ],
   "source": [
    "toronto_grouped = toronto_onehot.groupby('Neighborhood').mean().reset_index()\n",
    "toronto_grouped.head()"
   ]
  },
  {
   "cell_type": "code",
   "execution_count": 60,
   "metadata": {},
   "outputs": [
    {
     "output_type": "execute_result",
     "data": {
      "text/plain": [
       "(96, 281)"
      ]
     },
     "metadata": {},
     "execution_count": 60
    }
   ],
   "source": [
    "toronto_grouped.shape"
   ]
  },
  {
   "source": [
    "Let's print each neighborhood along with the top 5 most common venues"
   ],
   "cell_type": "markdown",
   "metadata": {}
  },
  {
   "cell_type": "code",
   "execution_count": 82,
   "metadata": {
    "tags": [
     "outputPrepend"
    ]
   },
   "outputs": [
    {
     "output_type": "stream",
     "name": "stdout",
     "text": [
      "  venue  freq\n",
      "0   Chinese Restaurant  0.25\n",
      "1                 Café  0.25\n",
      "2  Japanese Restaurant  0.25\n",
      "3                 Bank  0.25\n",
      "4           Nail Salon  0.00\n",
      "\n",
      "\n",
      "----Bedford Park, Lawrence Manor East----\n",
      "                venue  freq\n",
      "0      Sandwich Place  0.09\n",
      "1         Coffee Shop  0.09\n",
      "2  Italian Restaurant  0.09\n",
      "3     Thai Restaurant  0.05\n",
      "4                Café  0.05\n",
      "\n",
      "\n",
      "----Berczy Park----\n",
      "           venue  freq\n",
      "0    Coffee Shop  0.15\n",
      "1  Boat or Ferry  0.07\n",
      "2     Restaurant  0.04\n",
      "3          Hotel  0.04\n",
      "4         Bakery  0.03\n",
      "\n",
      "\n",
      "----Birch Cliff, Cliffside West----\n",
      "                     venue  freq\n",
      "0          College Stadium  0.25\n",
      "1    General Entertainment  0.25\n",
      "2             Skating Rink  0.25\n",
      "3                     Café  0.25\n",
      "4  North Indian Restaurant  0.00\n",
      "\n",
      "\n",
      "----Brockton, Parkdale Village, Exhibition Place----\n",
      "                venue  freq\n",
      "0  Tibetan Restaurant  0.09\n",
      "1          Restaurant  0.06\n",
      "2            Pharmacy  0.06\n",
      "3                Café  0.06\n",
      "4                 Bar  0.06\n",
      "\n",
      "\n",
      "----Business reply mail Processing Centre, South Central Letter Processing Plant Toronto----\n",
      "                  venue  freq\n",
      "0         Burrito Place  0.06\n",
      "1            Restaurant  0.06\n",
      "2            Skate Park  0.06\n",
      "3    Light Rail Station  0.06\n",
      "4  Gym / Fitness Center  0.06\n",
      "\n",
      "\n",
      "----CN Tower, King and Spadina, Railway Lands, Harbourfront West, Bathurst Quay, South Niagara, Island airport----\n",
      "                venue  freq\n",
      "0         Coffee Shop  0.07\n",
      "1               Hotel  0.05\n",
      "2          Restaurant  0.05\n",
      "3                Café  0.04\n",
      "4  Italian Restaurant  0.04\n",
      "\n",
      "\n",
      "----Caledonia-Fairbanks----\n",
      "                     venue  freq\n",
      "0                     Park  0.50\n",
      "1                     Pool  0.25\n",
      "2            Women's Store  0.25\n",
      "3      Moroccan Restaurant  0.00\n",
      "4  New American Restaurant  0.00\n",
      "\n",
      "\n",
      "----Canada Post Gateway Processing Centre----\n",
      "                       venue  freq\n",
      "0                      Hotel  0.15\n",
      "1                Coffee Shop  0.15\n",
      "2             Sandwich Place  0.08\n",
      "3                        Gym  0.08\n",
      "4  Middle Eastern Restaurant  0.08\n",
      "\n",
      "\n",
      "----Cedarbrae----\n",
      "                 venue  freq\n",
      "0      Thai Restaurant  0.12\n",
      "1   Athletics & Sports  0.12\n",
      "2  Fried Chicken Joint  0.12\n",
      "3                 Bank  0.12\n",
      "4               Bakery  0.12\n",
      "\n",
      "\n",
      "----Central Bay Street----\n",
      "                venue  freq\n",
      "0         Coffee Shop  0.18\n",
      "1                Café  0.06\n",
      "2      Sandwich Place  0.04\n",
      "3  Italian Restaurant  0.04\n",
      "4    Department Store  0.03\n",
      "\n",
      "\n",
      "----Christie----\n",
      "                venue  freq\n",
      "0       Grocery Store  0.25\n",
      "1                Café  0.19\n",
      "2                Park  0.12\n",
      "3  Italian Restaurant  0.06\n",
      "4           Nightclub  0.06\n",
      "\n",
      "\n",
      "----Church and Wellesley----\n",
      "                 venue  freq\n",
      "0          Coffee Shop  0.09\n",
      "1  Japanese Restaurant  0.05\n",
      "2     Sushi Restaurant  0.05\n",
      "3              Gay Bar  0.05\n",
      "4           Restaurant  0.04\n",
      "\n",
      "\n",
      "----Clarks Corners, Tam O'Shanter, Sullivan----\n",
      "                venue  freq\n",
      "0         Pizza Place  0.17\n",
      "1                Bank  0.08\n",
      "2  Italian Restaurant  0.08\n",
      "3        Noodle House  0.08\n",
      "4         Gas Station  0.08\n",
      "\n",
      "\n",
      "----Cliffside, Cliffcrest, Scarborough Village West----\n",
      "                 venue  freq\n",
      "0                Motel   0.5\n",
      "1  American Restaurant   0.5\n",
      "2        Movie Theater   0.0\n",
      "3         Noodle House   0.0\n",
      "4            Nightclub   0.0\n",
      "\n",
      "\n",
      "----Commerce Court, Victoria Hotel----\n",
      "         venue  freq\n",
      "0  Coffee Shop  0.13\n",
      "1   Restaurant  0.07\n",
      "2         Café  0.06\n",
      "3        Hotel  0.06\n",
      "4          Gym  0.04\n",
      "\n",
      "\n",
      "----Davisville----\n",
      "                venue  freq\n",
      "0         Pizza Place  0.09\n",
      "1        Dessert Shop  0.09\n",
      "2      Sandwich Place  0.09\n",
      "3                Café  0.06\n",
      "4  Italian Restaurant  0.06\n",
      "\n",
      "\n",
      "----Davisville North----\n",
      "                  venue  freq\n",
      "0        Breakfast Spot  0.11\n",
      "1      Department Store  0.11\n",
      "2     Food & Drink Shop  0.11\n",
      "3                  Park  0.11\n",
      "4  Gym / Fitness Center  0.11\n",
      "\n",
      "\n",
      "----Del Ray, Mount Dennis, Keelsdale and Silverthorn----\n",
      "                venue  freq\n",
      "0          Restaurant   0.2\n",
      "1      Discount Store   0.2\n",
      "2      Sandwich Place   0.2\n",
      "3  Turkish Restaurant   0.2\n",
      "4                 Bar   0.2\n",
      "\n",
      "\n",
      "----Don Mills----\n",
      "           venue  freq\n",
      "0     Restaurant  0.08\n",
      "1    Pizza Place  0.06\n",
      "2   Gourmet Shop  0.04\n",
      "3  Women's Store  0.04\n",
      "4           Café  0.04\n",
      "\n",
      "\n",
      "----Dorset Park, Wexford Heights, Scarborough Town Centre----\n",
      "                             venue  freq\n",
      "0                Indian Restaurant   0.4\n",
      "1                        Pet Store   0.2\n",
      "2            Vietnamese Restaurant   0.2\n",
      "3               Chinese Restaurant   0.2\n",
      "4  Molecular Gastronomy Restaurant   0.0\n",
      "\n",
      "\n",
      "----Downsview----\n",
      "                venue  freq\n",
      "0       Grocery Store  0.19\n",
      "1                Park  0.12\n",
      "2      Baseball Field  0.06\n",
      "3  Athletics & Sports  0.06\n",
      "4    Business Service  0.06\n",
      "\n",
      "\n",
      "----Dufferin, Dovercourt Village----\n",
      "         venue  freq\n",
      "0     Pharmacy  0.15\n",
      "1       Bakery  0.15\n",
      "2      Brewery  0.08\n",
      "3         Park  0.08\n",
      "4  Supermarket  0.08\n",
      "\n",
      "\n",
      "----East Toronto, Broadview North (Old East York)----\n",
      "                             venue  freq\n",
      "0                Convenience Store  0.33\n",
      "1                             Park  0.33\n",
      "2                     Intersection  0.33\n",
      "3       Modern European Restaurant  0.00\n",
      "4  Molecular Gastronomy Restaurant  0.00\n",
      "\n",
      "\n",
      "----Fairview, Henry Farm, Oriole----\n",
      "               venue  freq\n",
      "0               Park  0.33\n",
      "1           Pharmacy  0.17\n",
      "2  Convenience Store  0.08\n",
      "3        Pizza Place  0.08\n",
      "4    Thai Restaurant  0.08\n",
      "\n",
      "\n",
      "----First Canadian Place, Underground city----\n",
      "         venue  freq\n",
      "0  Coffee Shop  0.10\n",
      "1         Café  0.07\n",
      "2        Hotel  0.06\n",
      "3          Gym  0.04\n",
      "4   Restaurant  0.04\n",
      "\n",
      "\n",
      "----Forest Hill North & West, Forest Hill Road Park----\n",
      "              venue  freq\n",
      "0              Park  0.25\n",
      "1     Jewelry Store  0.25\n",
      "2             Trail  0.25\n",
      "3  Sushi Restaurant  0.25\n",
      "4       Yoga Studio  0.00\n",
      "\n",
      "\n",
      "----Garden District, Ryerson----\n",
      "                 venue  freq\n",
      "0       Clothing Store  0.10\n",
      "1          Coffee Shop  0.09\n",
      "2                 Café  0.04\n",
      "3  Japanese Restaurant  0.03\n",
      "4      Bubble Tea Shop  0.03\n",
      "\n",
      "\n",
      "----Glencairn----\n",
      "                 venue  freq\n",
      "0                  Pub  0.25\n",
      "1          Pizza Place  0.25\n",
      "2  Japanese Restaurant  0.25\n",
      "3                 Park  0.25\n",
      "4          Yoga Studio  0.00\n",
      "\n",
      "\n",
      "----Golden Mile, Clairlea, Oakridge----\n",
      "            venue  freq\n",
      "0          Bakery   0.2\n",
      "1        Bus Line   0.2\n",
      "2            Park   0.1\n",
      "3  Ice Cream Shop   0.1\n",
      "4   Metro Station   0.1\n",
      "\n",
      "\n",
      "----Guildwood, Morningside, West Hill----\n",
      "                 venue  freq\n",
      "0       Breakfast Spot  0.12\n",
      "1  Rental Car Location  0.12\n",
      "2   Mexican Restaurant  0.12\n",
      "3       Medical Center  0.12\n",
      "4    Electronics Store  0.12\n",
      "\n",
      "\n",
      "----Harbourfront East, Union Station, Toronto Islands----\n",
      "         venue  freq\n",
      "0  Coffee Shop  0.11\n",
      "1     Aquarium  0.05\n",
      "2   Restaurant  0.04\n",
      "3  Pizza Place  0.04\n",
      "4        Hotel  0.03\n",
      "\n",
      "\n",
      "----High Park, The Junction South----\n",
      "                                      venue  freq\n",
      "0                         Convenience Store  0.25\n",
      "1                             Bowling Alley  0.25\n",
      "2                                      Park  0.25\n",
      "3  Residential Building (Apartment / Condo)  0.25\n",
      "4                             Movie Theater  0.00\n",
      "\n",
      "\n",
      "----Hillcrest Village----\n",
      "                      venue  freq\n",
      "0                      Pool   0.2\n",
      "1        Athletics & Sports   0.2\n",
      "2  Mediterranean Restaurant   0.2\n",
      "3                   Dog Run   0.2\n",
      "4               Golf Course   0.2\n",
      "\n",
      "\n",
      "----Humber Summit----\n",
      "                    venue  freq\n",
      "0             Pizza Place   0.5\n",
      "1  Furniture / Home Store   0.5\n",
      "2             Yoga Studio   0.0\n",
      "3                   Motel   0.0\n",
      "4               Nightclub   0.0\n",
      "\n",
      "\n",
      "----Humberlea, Emery----\n",
      "                     venue  freq\n",
      "0           Baseball Field   1.0\n",
      "1              Yoga Studio   0.0\n",
      "2            Movie Theater   0.0\n",
      "3                Nightclub   0.0\n",
      "4  New American Restaurant   0.0\n",
      "\n",
      "\n",
      "----Humewood-Cedarvale----\n",
      "          venue  freq\n",
      "0         Field   0.2\n",
      "1  Hockey Arena   0.2\n",
      "2         Trail   0.2\n",
      "3       Dog Run   0.2\n",
      "4  Tennis Court   0.2\n",
      "\n",
      "\n",
      "----India Bazaar, The Beaches West----\n",
      "         venue  freq\n",
      "0          Pub  0.06\n",
      "1       Bakery  0.06\n",
      "2  Coffee Shop  0.06\n",
      "3    BBQ Joint  0.06\n",
      "4  Yoga Studio  0.03\n",
      "\n",
      "\n",
      "----Kennedy Park, Ionview, East Birchmount Park----\n",
      "              venue  freq\n",
      "0        Hobby Shop  0.25\n",
      "1  Department Store  0.25\n",
      "2       Coffee Shop  0.25\n",
      "3     Train Station  0.25\n",
      "4       Yoga Studio  0.00\n",
      "\n",
      "\n",
      "----Kensington Market, Chinatown, Grange Park----\n",
      "                           venue  freq\n",
      "0                    Coffee Shop  0.05\n",
      "1  Vegetarian / Vegan Restaurant  0.05\n",
      "2             Mexican Restaurant  0.05\n",
      "3                            Bar  0.05\n",
      "4                           Café  0.05\n",
      "\n",
      "\n",
      "----Kingsview Village, St. Phillips, Martin Grove Gardens, Richview Gardens----\n",
      "           venue  freq\n",
      "0    Coffee Shop  0.50\n",
      "1  Grocery Store  0.25\n",
      "2       Bus Line  0.25\n",
      "3    Yoga Studio  0.00\n",
      "4         Museum  0.00\n",
      "\n",
      "\n",
      "----Lawrence Manor, Lawrence Heights----\n",
      "                   venue  freq\n",
      "0         Clothing Store  0.38\n",
      "1  Vietnamese Restaurant  0.08\n",
      "2            Event Space  0.08\n",
      "3            Coffee Shop  0.08\n",
      "4               Boutique  0.08\n",
      "\n",
      "\n",
      "----Lawrence Park----\n",
      "         venue  freq\n",
      "0         Park  0.33\n",
      "1     Bus Line  0.33\n",
      "2  Swim School  0.33\n",
      "3  Yoga Studio  0.00\n",
      "4        Motel  0.00\n",
      "\n",
      "\n",
      "----Leaside----\n",
      "                    venue  freq\n",
      "0     Sporting Goods Shop  0.09\n",
      "1             Coffee Shop  0.09\n",
      "2            Burger Joint  0.06\n",
      "3           Shopping Mall  0.06\n",
      "4  Furniture / Home Store  0.06\n",
      "\n",
      "\n",
      "----Little Portugal, Trinity----\n",
      "                           venue  freq\n",
      "0                            Bar  0.12\n",
      "1                   Cocktail Bar  0.06\n",
      "2                     Taco Place  0.06\n",
      "3  Vegetarian / Vegan Restaurant  0.04\n",
      "4                           Café  0.04\n",
      "\n",
      "\n",
      "----Malvern, Rouge----\n",
      "                     venue  freq\n",
      "0              Coffee Shop  0.08\n",
      "1           Clothing Store  0.07\n",
      "2                    Hotel  0.03\n",
      "3               Restaurant  0.02\n",
      "4  New American Restaurant  0.02\n",
      "\n",
      "\n",
      "----Milliken, Agincourt North, Steeles East, L'Amoreaux East----\n",
      "           venue  freq\n",
      "0         Bakery  0.33\n",
      "1     Playground  0.33\n",
      "2           Park  0.33\n",
      "3  Movie Theater  0.00\n",
      "4   Noodle House  0.00\n",
      "\n",
      "\n",
      "----Mimico NW, The Queensway West, South of Bloor, Kingsway Park South West, Royal York South West----\n",
      "                    venue  freq\n",
      "0    Fast Food Restaurant  0.06\n",
      "1                     Gym  0.06\n",
      "2  Thrift / Vintage Store  0.06\n",
      "3           Grocery Store  0.06\n",
      "4              Kids Store  0.06\n",
      "\n",
      "\n",
      "----Moore Park, Summerhill East----\n",
      "                     venue  freq\n",
      "0               Playground   0.5\n",
      "1                    Trail   0.5\n",
      "2              Yoga Studio   0.0\n",
      "3                    Motel   0.0\n",
      "4  New American Restaurant   0.0\n",
      "\n",
      "\n",
      "----New Toronto, Mimico South, Humber Bay Shores----\n",
      "                 venue  freq\n",
      "0          Coffee Shop  0.14\n",
      "1                 Café  0.14\n",
      "2         Liquor Store  0.07\n",
      "3  American Restaurant  0.07\n",
      "4  Fried Chicken Joint  0.07\n",
      "\n",
      "\n",
      "----North Park, Maple Leaf Park, Upwood Park----\n",
      "                        venue  freq\n",
      "0                      Bakery  0.33\n",
      "1  Construction & Landscaping  0.33\n",
      "2                        Park  0.33\n",
      "3               Movie Theater  0.00\n",
      "4                Noodle House  0.00\n",
      "\n",
      "\n",
      "----North Toronto West, Lawrence Park----\n",
      "            venue  freq\n",
      "0  Clothing Store  0.11\n",
      "1     Coffee Shop  0.11\n",
      "2     Yoga Studio  0.06\n",
      "3            Park  0.06\n",
      "4             Spa  0.06\n",
      "\n",
      "\n",
      "----Northwest, West Humber - Clairville----\n",
      "                 venue  freq\n",
      "0                  Bar  0.25\n",
      "1        Garden Center  0.25\n",
      "2            Drugstore  0.25\n",
      "3  Rental Car Location  0.25\n",
      "4         Noodle House  0.00\n",
      "\n",
      "\n",
      "----Northwood Park, York University----\n",
      "                    venue  freq\n",
      "0      Miscellaneous Shop  0.14\n",
      "1    Caribbean Restaurant  0.14\n",
      "2           Metro Station  0.14\n",
      "3  Furniture / Home Store  0.14\n",
      "4          Massage Studio  0.14\n",
      "\n",
      "\n",
      "----Old Mill South, King's Mill Park, Sunnylea, Humber Bay, Mimico NE, The Queensway East, Royal York South East, Kingsway Park South East----\n",
      "                        venue  freq\n",
      "0  Construction & Landscaping   0.5\n",
      "1              Baseball Field   0.5\n",
      "2                 Yoga Studio   0.0\n",
      "3               Movie Theater   0.0\n",
      "4                   Nightclub   0.0\n",
      "\n",
      "\n",
      "----Parkdale, Roncesvalles----\n",
      "              venue  freq\n",
      "0    Breakfast Spot  0.14\n",
      "1         Gift Shop  0.14\n",
      "2  Cuban Restaurant  0.07\n",
      "3        Restaurant  0.07\n",
      "4     Movie Theater  0.07\n",
      "\n",
      "\n",
      "----Parkview Hill, Woodbine Gardens----\n",
      "                  venue  freq\n",
      "0           Pizza Place   0.2\n",
      "1        Breakfast Spot   0.1\n",
      "2              Pharmacy   0.1\n",
      "3             Gastropub   0.1\n",
      "4  Gym / Fitness Center   0.1\n",
      "\n",
      "\n",
      "----Parkwoods----\n",
      "                     venue  freq\n",
      "0              Coffee Shop  0.08\n",
      "1           Clothing Store  0.07\n",
      "2                    Hotel  0.03\n",
      "3               Restaurant  0.02\n",
      "4  New American Restaurant  0.02\n",
      "\n",
      "\n",
      "----Queen's Park, Ontario Provincial Government----\n",
      "                     venue  freq\n",
      "0              Coffee Shop  0.08\n",
      "1           Clothing Store  0.07\n",
      "2                    Hotel  0.03\n",
      "3               Restaurant  0.02\n",
      "4  New American Restaurant  0.02\n",
      "\n",
      "\n",
      "----Regent Park, Harbourfront----\n",
      "         venue  freq\n",
      "0  Coffee Shop  0.18\n",
      "1          Pub  0.07\n",
      "2         Park  0.07\n",
      "3       Bakery  0.07\n",
      "4         Café  0.05\n",
      "\n",
      "\n",
      "----Richmond, Adelaide, King----\n",
      "              venue  freq\n",
      "0              Café  0.07\n",
      "1       Coffee Shop  0.07\n",
      "2               Gym  0.04\n",
      "3  Asian Restaurant  0.03\n",
      "4  Sushi Restaurant  0.03\n",
      "\n",
      "\n",
      "----Rosedale----\n",
      "         venue  freq\n",
      "0         Park  0.50\n",
      "1   Playground  0.25\n",
      "2        Trail  0.25\n",
      "3  Yoga Studio  0.00\n",
      "4        Motel  0.00\n",
      "\n",
      "\n",
      "----Roselawn----\n",
      "                     venue  freq\n",
      "0                   Garden   0.5\n",
      "1              Music Venue   0.5\n",
      "2              Yoga Studio   0.0\n",
      "3                Nightclub   0.0\n",
      "4  New American Restaurant   0.0\n",
      "\n",
      "\n",
      "----Rouge Hill, Port Union, Highland Creek----\n",
      "                     venue  freq\n",
      "0              Coffee Shop  0.08\n",
      "1           Clothing Store  0.07\n",
      "2                    Hotel  0.03\n",
      "3               Restaurant  0.02\n",
      "4  New American Restaurant  0.02\n",
      "\n",
      "\n",
      "----Runnymede, Swansea----\n",
      "         venue  freq\n",
      "0         Café  0.09\n",
      "1  Coffee Shop  0.09\n",
      "2  Pizza Place  0.07\n",
      "3          Pub  0.05\n",
      "4       Bakery  0.05\n",
      "\n",
      "\n",
      "----Runnymede, The Junction North----\n",
      "                    venue  freq\n",
      "0                 Brewery  0.43\n",
      "1  Furniture / Home Store  0.29\n",
      "2                    Park  0.14\n",
      "3      Athletics & Sports  0.14\n",
      "4           Movie Theater  0.00\n",
      "\n",
      "\n",
      "----Scarborough Village----\n",
      "           venue  freq\n",
      "0     Playground  0.33\n",
      "1  Jewelry Store  0.33\n",
      "2     Smoke Shop  0.33\n",
      "3    Yoga Studio  0.00\n",
      "4  Movie Theater  0.00\n",
      "\n",
      "\n",
      "----South Steeles, Silverstone, Humbergate, Jamestown, Mount Olive, Beaumond Heights, Thistletown, Albion Gardens----\n",
      "                  venue  freq\n",
      "0           Pizza Place   0.2\n",
      "1         Grocery Store   0.2\n",
      "2  Fast Food Restaurant   0.1\n",
      "3   Fried Chicken Joint   0.1\n",
      "4              Pharmacy   0.1\n",
      "\n",
      "\n",
      "----St. James Town----\n",
      "          venue  freq\n",
      "0   Coffee Shop  0.07\n",
      "1          Café  0.06\n",
      "2    Restaurant  0.05\n",
      "3  Cocktail Bar  0.05\n",
      "4     Gastropub  0.04\n",
      "\n",
      "\n",
      "----St. James Town, Cabbagetown----\n",
      "         venue  freq\n",
      "0  Coffee Shop  0.10\n",
      "1         Café  0.06\n",
      "2  Pizza Place  0.06\n",
      "3   Restaurant  0.06\n",
      "4         Park  0.04\n",
      "\n",
      "\n",
      "----Steeles West, L'Amoreaux West----\n",
      "                  venue  freq\n",
      "0    Chinese Restaurant  0.24\n",
      "1  Fast Food Restaurant  0.10\n",
      "2  Taiwanese Restaurant  0.05\n",
      "3         Shopping Mall  0.05\n",
      "4     Korean Restaurant  0.05\n",
      "\n",
      "\n",
      "----Stn A PO Boxes----\n",
      "                venue  freq\n",
      "0         Coffee Shop  0.10\n",
      "1  Italian Restaurant  0.04\n",
      "2  Seafood Restaurant  0.03\n",
      "3            Beer Bar  0.03\n",
      "4                Café  0.03\n",
      "\n",
      "\n",
      "----Studio District----\n",
      "                 venue  freq\n",
      "0          Coffee Shop  0.08\n",
      "1  American Restaurant  0.05\n",
      "2               Bakery  0.05\n",
      "3              Brewery  0.05\n",
      "4            Gastropub  0.05\n",
      "\n",
      "\n",
      "----Summerhill West, Rathnelly, South Hill, Forest Hill SE, Deer Park----\n",
      "                   venue  freq\n",
      "0            Coffee Shop  0.14\n",
      "1                    Pub  0.07\n",
      "2  Vietnamese Restaurant  0.07\n",
      "3           Liquor Store  0.07\n",
      "4                   Bank  0.07\n",
      "\n",
      "\n",
      "----The Annex, North Midtown, Yorkville----\n",
      "                       venue  freq\n",
      "0             Sandwich Place  0.16\n",
      "1                       Café  0.16\n",
      "2                Coffee Shop  0.11\n",
      "3                   Pharmacy  0.05\n",
      "4  Middle Eastern Restaurant  0.05\n",
      "\n",
      "\n",
      "----The Beaches----\n",
      "               venue  freq\n",
      "0                Pub  0.25\n",
      "1              Trail  0.25\n",
      "2  Health Food Store  0.25\n",
      "3        Yoga Studio  0.00\n",
      "4      Movie Theater  0.00\n",
      "\n",
      "\n",
      "----The Danforth West, Riverdale----\n",
      "                venue  freq\n",
      "0    Greek Restaurant  0.16\n",
      "1         Coffee Shop  0.09\n",
      "2  Italian Restaurant  0.07\n",
      "3           Bookstore  0.05\n",
      "4      Ice Cream Shop  0.05\n",
      "\n",
      "\n",
      "----The Kingsway, Montgomery Road, Old Mill North----\n",
      "                     venue  freq\n",
      "0                     Pool   0.5\n",
      "1                    River   0.5\n",
      "2             Noodle House   0.0\n",
      "3                Nightclub   0.0\n",
      "4  New American Restaurant   0.0\n",
      "\n",
      "\n",
      "----Thorncliffe Park----\n",
      "                  venue  freq\n",
      "0     Indian Restaurant  0.08\n",
      "1        Sandwich Place  0.08\n",
      "2           Yoga Studio  0.04\n",
      "3  Gym / Fitness Center  0.04\n",
      "4          Burger Joint  0.04\n",
      "\n",
      "\n",
      "----Toronto Dominion Centre, Design Exchange----\n",
      "                 venue  freq\n",
      "0          Coffee Shop  0.14\n",
      "1                Hotel  0.08\n",
      "2           Restaurant  0.05\n",
      "3                 Café  0.05\n",
      "4  Japanese Restaurant  0.03\n",
      "\n",
      "\n",
      "----University of Toronto, Harbord----\n",
      "                 venue  freq\n",
      "0                 Café  0.15\n",
      "1            Bookstore  0.09\n",
      "2                  Bar  0.06\n",
      "3       Sandwich Place  0.06\n",
      "4  Japanese Restaurant  0.06\n",
      "\n",
      "\n",
      "----Victoria Village----\n",
      "                   venue  freq\n",
      "0           Intersection   0.2\n",
      "1  Portuguese Restaurant   0.2\n",
      "2           Hockey Arena   0.2\n",
      "3            Pizza Place   0.2\n",
      "4            Coffee Shop   0.2\n",
      "\n",
      "\n",
      "----West Deane Park, Princess Gardens, Martin Grove, Islington, Cloverdale----\n",
      "                     venue  freq\n",
      "0               Print Shop   1.0\n",
      "1              Yoga Studio   0.0\n",
      "2                    Motel   0.0\n",
      "3                Nightclub   0.0\n",
      "4  New American Restaurant   0.0\n",
      "\n",
      "\n",
      "----Westmount----\n",
      "                venue  freq\n",
      "0  Chinese Restaurant  0.17\n",
      "1      Sandwich Place  0.17\n",
      "2         Pizza Place  0.17\n",
      "3        Intersection  0.17\n",
      "4         Coffee Shop  0.17\n",
      "\n",
      "\n",
      "----Weston----\n",
      "                     venue  freq\n",
      "0                     Park   1.0\n",
      "1              Yoga Studio   0.0\n",
      "2  North Indian Restaurant   0.0\n",
      "3                Nightclub   0.0\n",
      "4  New American Restaurant   0.0\n",
      "\n",
      "\n",
      "----Wexford, Maryvale----\n",
      "               venue  freq\n",
      "0  Accessories Store  0.17\n",
      "1        Auto Garage  0.17\n",
      "2         Smoke Shop  0.17\n",
      "3     Sandwich Place  0.17\n",
      "4             Bakery  0.17\n",
      "\n",
      "\n",
      "----Willowdale, Newtonbrook----\n",
      "               venue  freq\n",
      "0  Korean Restaurant  0.26\n",
      "1              Diner  0.11\n",
      "2        Coffee Shop  0.11\n",
      "3               Bank  0.05\n",
      "4   Sushi Restaurant  0.05\n",
      "\n",
      "\n",
      "----Willowdale, Willowdale East----\n",
      "               venue  freq\n",
      "0  Korean Restaurant  0.18\n",
      "1    Bubble Tea Shop  0.14\n",
      "2        Coffee Shop  0.07\n",
      "3        Pizza Place  0.04\n",
      "4       Dessert Shop  0.04\n",
      "\n",
      "\n",
      "----Willowdale, Willowdale West----\n",
      "           venue  freq\n",
      "0    Pizza Place   0.2\n",
      "1        Butcher   0.2\n",
      "2       Pharmacy   0.2\n",
      "3  Grocery Store   0.2\n",
      "4    Coffee Shop   0.2\n",
      "\n",
      "\n",
      "----Woburn----\n",
      "               venue  freq\n",
      "0   Business Service   0.2\n",
      "1  Indian Restaurant   0.2\n",
      "2               Park   0.2\n",
      "3  Fish & Chips Shop   0.2\n",
      "4        Coffee Shop   0.2\n",
      "\n",
      "\n",
      "----Woodbine Heights----\n",
      "          venue  freq\n",
      "0  Skating Rink  0.29\n",
      "1   Curling Ice  0.14\n",
      "2  Dance Studio  0.14\n",
      "3          Park  0.14\n",
      "4    Beer Store  0.14\n",
      "\n",
      "\n",
      "----York Mills West----\n",
      "               venue  freq\n",
      "0  Convenience Store   0.5\n",
      "1               Park   0.5\n",
      "2             Office   0.0\n",
      "3       Noodle House   0.0\n",
      "4          Nightclub   0.0\n",
      "\n",
      "\n",
      "----York Mills, Silver Hills----\n",
      "                     venue  freq\n",
      "0      Martial Arts School   1.0\n",
      "1              Yoga Studio   0.0\n",
      "2                    Motel   0.0\n",
      "3                Nightclub   0.0\n",
      "4  New American Restaurant   0.0\n",
      "\n",
      "\n"
     ]
    }
   ],
   "source": [
    "num_top_venues = 5\n",
    "\n",
    "for hood in toronto_grouped['Neighborhood']:\n",
    "    print(\"----\"+hood+\"----\")\n",
    "    temp = toronto_grouped[toronto_grouped['Neighborhood'] == hood].T.reset_index()\n",
    "    temp.columns = ['venue','freq']\n",
    "    temp = temp.iloc[1:]\n",
    "    temp['freq'] = temp['freq'].astype(float)\n",
    "    temp = temp.round({'freq': 2})\n",
    "    print(temp.sort_values('freq', ascending=False).reset_index(drop=True).head(num_top_venues))\n",
    "    print('\\n')"
   ]
  },
  {
   "source": [
    "Let's put that into a pandas dataframe\n",
    "\n",
    "First, let's write a function to sort the venues in descending order"
   ],
   "cell_type": "markdown",
   "metadata": {}
  },
  {
   "cell_type": "code",
   "execution_count": 83,
   "metadata": {},
   "outputs": [],
   "source": [
    "def return_most_common_venues(row, num_top_venues):\n",
    "    row_categories = row.iloc[1:]\n",
    "    row_categories_sorted = row_categories.sort_values(ascending=False)\n",
    "    \n",
    "    return row_categories_sorted.index.values[0:num_top_venues]"
   ]
  },
  {
   "source": [
    "Now let's create the new dataframe and display the top 10 venues for each neighborhood."
   ],
   "cell_type": "markdown",
   "metadata": {}
  },
  {
   "cell_type": "code",
   "execution_count": 230,
   "metadata": {},
   "outputs": [
    {
     "output_type": "execute_result",
     "data": {
      "text/plain": [
       "                                      Neighborhood 1st Most Common Venue  \\\n",
       "0                                        Agincourt        Breakfast Spot   \n",
       "1                           Alderwood, Long Branch           Pizza Place   \n",
       "2  Bathurst Manor, Wilson Heights, Downsview North                  Bank   \n",
       "3                                  Bayview Village                  Bank   \n",
       "4                Bedford Park, Lawrence Manor East        Sandwich Place   \n",
       "\n",
       "       2nd Most Common Venue 3rd Most Common Venue 4th Most Common Venue  \\\n",
       "0  Latin American Restaurant        Clothing Store                Lounge   \n",
       "1                        Pub           Coffee Shop                   Gym   \n",
       "2                Coffee Shop            Restaurant        Ice Cream Shop   \n",
       "3         Chinese Restaurant   Japanese Restaurant                  Café   \n",
       "4         Italian Restaurant           Coffee Shop          Liquor Store   \n",
       "\n",
       "  5th Most Common Venue        6th Most Common Venue 7th Most Common Venue  \\\n",
       "0          Skating Rink           Falafel Restaurant     Electronics Store   \n",
       "1        Sandwich Place                     Pharmacy  Fast Food Restaurant   \n",
       "2      Sushi Restaurant           Chinese Restaurant           Supermarket   \n",
       "3           Event Space  Eastern European Restaurant     Electronics Store   \n",
       "4                  Café                   Restaurant             Juice Bar   \n",
       "\n",
       "  8th Most Common Venue 9th Most Common Venue 10th Most Common Venue  \n",
       "0           Escape Room  Ethiopian Restaurant            Event Space  \n",
       "1                 Field        Farmers Market     Falafel Restaurant  \n",
       "2           Gas Station        Sandwich Place                  Diner  \n",
       "3           Escape Room  Ethiopian Restaurant    Xinjiang Restaurant  \n",
       "4       Thai Restaurant                   Pub      Indian Restaurant  "
      ],
      "text/html": "<div>\n<style scoped>\n    .dataframe tbody tr th:only-of-type {\n        vertical-align: middle;\n    }\n\n    .dataframe tbody tr th {\n        vertical-align: top;\n    }\n\n    .dataframe thead th {\n        text-align: right;\n    }\n</style>\n<table border=\"1\" class=\"dataframe\">\n  <thead>\n    <tr style=\"text-align: right;\">\n      <th></th>\n      <th>Neighborhood</th>\n      <th>1st Most Common Venue</th>\n      <th>2nd Most Common Venue</th>\n      <th>3rd Most Common Venue</th>\n      <th>4th Most Common Venue</th>\n      <th>5th Most Common Venue</th>\n      <th>6th Most Common Venue</th>\n      <th>7th Most Common Venue</th>\n      <th>8th Most Common Venue</th>\n      <th>9th Most Common Venue</th>\n      <th>10th Most Common Venue</th>\n    </tr>\n  </thead>\n  <tbody>\n    <tr>\n      <th>0</th>\n      <td>Agincourt</td>\n      <td>Breakfast Spot</td>\n      <td>Latin American Restaurant</td>\n      <td>Clothing Store</td>\n      <td>Lounge</td>\n      <td>Skating Rink</td>\n      <td>Falafel Restaurant</td>\n      <td>Electronics Store</td>\n      <td>Escape Room</td>\n      <td>Ethiopian Restaurant</td>\n      <td>Event Space</td>\n    </tr>\n    <tr>\n      <th>1</th>\n      <td>Alderwood, Long Branch</td>\n      <td>Pizza Place</td>\n      <td>Pub</td>\n      <td>Coffee Shop</td>\n      <td>Gym</td>\n      <td>Sandwich Place</td>\n      <td>Pharmacy</td>\n      <td>Fast Food Restaurant</td>\n      <td>Field</td>\n      <td>Farmers Market</td>\n      <td>Falafel Restaurant</td>\n    </tr>\n    <tr>\n      <th>2</th>\n      <td>Bathurst Manor, Wilson Heights, Downsview North</td>\n      <td>Bank</td>\n      <td>Coffee Shop</td>\n      <td>Restaurant</td>\n      <td>Ice Cream Shop</td>\n      <td>Sushi Restaurant</td>\n      <td>Chinese Restaurant</td>\n      <td>Supermarket</td>\n      <td>Gas Station</td>\n      <td>Sandwich Place</td>\n      <td>Diner</td>\n    </tr>\n    <tr>\n      <th>3</th>\n      <td>Bayview Village</td>\n      <td>Bank</td>\n      <td>Chinese Restaurant</td>\n      <td>Japanese Restaurant</td>\n      <td>Café</td>\n      <td>Event Space</td>\n      <td>Eastern European Restaurant</td>\n      <td>Electronics Store</td>\n      <td>Escape Room</td>\n      <td>Ethiopian Restaurant</td>\n      <td>Xinjiang Restaurant</td>\n    </tr>\n    <tr>\n      <th>4</th>\n      <td>Bedford Park, Lawrence Manor East</td>\n      <td>Sandwich Place</td>\n      <td>Italian Restaurant</td>\n      <td>Coffee Shop</td>\n      <td>Liquor Store</td>\n      <td>Café</td>\n      <td>Restaurant</td>\n      <td>Juice Bar</td>\n      <td>Thai Restaurant</td>\n      <td>Pub</td>\n      <td>Indian Restaurant</td>\n    </tr>\n  </tbody>\n</table>\n</div>"
     },
     "metadata": {},
     "execution_count": 230
    }
   ],
   "source": [
    "num_top_venues = 10\n",
    "\n",
    "indicators = ['st', 'nd', 'rd']\n",
    "\n",
    "# create columns according to number of top venues\n",
    "columns = ['Neighborhood']\n",
    "for ind in np.arange(num_top_venues):\n",
    "    try:\n",
    "        columns.append('{}{} Most Common Venue'.format(ind+1, indicators[ind]))\n",
    "    except:\n",
    "        columns.append('{}th Most Common Venue'.format(ind+1))\n",
    "\n",
    "# create a new dataframe\n",
    "neighborhoods_venues_sorted = pd.DataFrame(columns=columns)\n",
    "neighborhoods_venues_sorted['Neighborhood'] = toronto_grouped['Neighborhood']\n",
    "\n",
    "for ind in np.arange(toronto_grouped.shape[0]):\n",
    "    neighborhoods_venues_sorted.iloc[ind, 1:] = return_most_common_venues(toronto_grouped.iloc[ind, :], num_top_venues)\n",
    "\n",
    "neighborhoods_venues_sorted.head()"
   ]
  },
  {
   "source": [
    "## Cluster Neighborhoods\n",
    "Run k-means to cluster the neighborhood into 5 clusters."
   ],
   "cell_type": "markdown",
   "metadata": {}
  },
  {
   "cell_type": "code",
   "execution_count": 231,
   "metadata": {},
   "outputs": [
    {
     "output_type": "execute_result",
     "data": {
      "text/plain": [
       "array([1, 1, 1, 1, 1, 1, 1, 1, 1, 1])"
      ]
     },
     "metadata": {},
     "execution_count": 231
    }
   ],
   "source": [
    "# set number of clusters\n",
    "kclusters = 3\n",
    "\n",
    "toronto_grouped_clustering = toronto_grouped.drop('Neighborhood', 1)\n",
    "\n",
    "# run k-means clustering\n",
    "kmeans = KMeans(n_clusters=kclusters, random_state=0).fit(toronto_grouped_clustering)\n",
    "\n",
    "# check cluster labels generated for each row in the dataframe\n",
    "kmeans.labels_[0:10] "
   ]
  },
  {
   "source": [
    "Let's create a new dataframe that includes the cluster as well as the top 10 venues for each neighborhood."
   ],
   "cell_type": "markdown",
   "metadata": {}
  },
  {
   "cell_type": "code",
   "execution_count": 232,
   "metadata": {},
   "outputs": [],
   "source": [
    "# add clustering labels\n",
    "neighborhoods_venues_sorted.insert(0, 'Cluster Labels', kmeans.labels_)\n",
    "\n",
    "toronto_merged = df"
   ]
  },
  {
   "source": [
    "Let's create a new dataframe that includes the cluster as well as the top 10 venues for each neighborhood."
   ],
   "cell_type": "markdown",
   "metadata": {}
  },
  {
   "cell_type": "code",
   "execution_count": 233,
   "metadata": {},
   "outputs": [
    {
     "output_type": "stream",
     "name": "stdout",
     "text": [
      "neighborhoods_venues_sorted  (96,)\ntoronto_merged  (99,)\nappended  (99,)\n"
     ]
    },
    {
     "output_type": "execute_result",
     "data": {
      "text/plain": [
       "array(['Eringate, Bloordale Gardens, Old Burnhamthorpe, Markland Wood',\n",
       "       'Islington Avenue, Humber Valley Village', 'Upper Rouge'],\n",
       "      dtype=object)"
      ]
     },
     "metadata": {},
     "execution_count": 233
    }
   ],
   "source": [
    "\n",
    "x=np.append(toronto_merged['Neighbourhood'].unique(), neighborhoods_venues_sorted['Neighborhood'].unique())\n",
    "\n",
    "print(\"neighborhoods_venues_sorted \", neighborhoods_venues_sorted['Neighborhood'].unique().shape) \n",
    "print(\"toronto_merged \", np.unique(toronto_merged['Neighbourhood']).shape) \n",
    "print(\"appended \",np.unique(x).shape)\n",
    "\n",
    "\n",
    "# Consider each row as indexing tuple & get linear indexing value             \n",
    "# lid = np.ravel_multi_index(x.T,x.max(0)+1)\n",
    "lid=x\n",
    "\n",
    "# Get counts and unique indices\n",
    "_,idx,count = np.unique(lid,return_index=True,return_counts=True)\n",
    "\n",
    "# See which counts are exactly 1 and select the corresponding unique indices \n",
    "# and thus the correspnding rows from input as the final output\n",
    "out = x[idx[count==1]]\n",
    "\n",
    "# elements that are not not in both 'toronto_merged' and 'neighborhoods_venues_sorted'\n",
    "out\n",
    "\n"
   ]
  },
  {
   "cell_type": "code",
   "execution_count": 234,
   "metadata": {},
   "outputs": [
    {
     "output_type": "execute_result",
     "data": {
      "text/plain": [
       "  Postal Code           Borough                                Neighbourhood  \\\n",
       "0         M3A        North York                                    Parkwoods   \n",
       "1         M4A        North York                             Victoria Village   \n",
       "2         M5A  Downtown Toronto                    Regent Park, Harbourfront   \n",
       "3         M6A        North York             Lawrence Manor, Lawrence Heights   \n",
       "4         M7A  Downtown Toronto  Queen's Park, Ontario Provincial Government   \n",
       "\n",
       "    Latitude  Longitude  Cluster Labels 1st Most Common Venue  \\\n",
       "0  43.653482 -79.383935             1.0           Coffee Shop   \n",
       "1  43.725882 -79.315572             1.0          Intersection   \n",
       "2  43.654260 -79.360636             1.0           Coffee Shop   \n",
       "3  43.718518 -79.464763             1.0        Clothing Store   \n",
       "4  43.653482 -79.383935             1.0           Coffee Shop   \n",
       "\n",
       "  2nd Most Common Venue  3rd Most Common Venue 4th Most Common Venue  \\\n",
       "0        Clothing Store                  Hotel                Office   \n",
       "1          Hockey Arena  Portuguese Restaurant           Pizza Place   \n",
       "2                  Park                    Pub                Bakery   \n",
       "3         Women's Store  Vietnamese Restaurant              Boutique   \n",
       "4        Clothing Store                  Hotel                Office   \n",
       "\n",
       "    5th Most Common Venue 6th Most Common Venue 7th Most Common Venue  \\\n",
       "0                   Plaza            Restaurant                 Diner   \n",
       "1             Coffee Shop   Xinjiang Restaurant   Dumpling Restaurant   \n",
       "2                 Theater        Breakfast Spot                  Café   \n",
       "3  Furniture / Home Store           Event Space           Coffee Shop   \n",
       "4                   Plaza            Restaurant                 Diner   \n",
       "\n",
       "         8th Most Common Venue 9th Most Common Venue 10th Most Common Venue  \n",
       "0                    Bookstore       Thai Restaurant                Theater  \n",
       "1  Eastern European Restaurant     Electronics Store            Escape Room  \n",
       "2          Distribution Center            Shoe Store      French Restaurant  \n",
       "3                    Gift Shop     Accessories Store          Deli / Bodega  \n",
       "4                    Bookstore       Thai Restaurant                Theater  "
      ],
      "text/html": "<div>\n<style scoped>\n    .dataframe tbody tr th:only-of-type {\n        vertical-align: middle;\n    }\n\n    .dataframe tbody tr th {\n        vertical-align: top;\n    }\n\n    .dataframe thead th {\n        text-align: right;\n    }\n</style>\n<table border=\"1\" class=\"dataframe\">\n  <thead>\n    <tr style=\"text-align: right;\">\n      <th></th>\n      <th>Postal Code</th>\n      <th>Borough</th>\n      <th>Neighbourhood</th>\n      <th>Latitude</th>\n      <th>Longitude</th>\n      <th>Cluster Labels</th>\n      <th>1st Most Common Venue</th>\n      <th>2nd Most Common Venue</th>\n      <th>3rd Most Common Venue</th>\n      <th>4th Most Common Venue</th>\n      <th>5th Most Common Venue</th>\n      <th>6th Most Common Venue</th>\n      <th>7th Most Common Venue</th>\n      <th>8th Most Common Venue</th>\n      <th>9th Most Common Venue</th>\n      <th>10th Most Common Venue</th>\n    </tr>\n  </thead>\n  <tbody>\n    <tr>\n      <th>0</th>\n      <td>M3A</td>\n      <td>North York</td>\n      <td>Parkwoods</td>\n      <td>43.653482</td>\n      <td>-79.383935</td>\n      <td>1.0</td>\n      <td>Coffee Shop</td>\n      <td>Clothing Store</td>\n      <td>Hotel</td>\n      <td>Office</td>\n      <td>Plaza</td>\n      <td>Restaurant</td>\n      <td>Diner</td>\n      <td>Bookstore</td>\n      <td>Thai Restaurant</td>\n      <td>Theater</td>\n    </tr>\n    <tr>\n      <th>1</th>\n      <td>M4A</td>\n      <td>North York</td>\n      <td>Victoria Village</td>\n      <td>43.725882</td>\n      <td>-79.315572</td>\n      <td>1.0</td>\n      <td>Intersection</td>\n      <td>Hockey Arena</td>\n      <td>Portuguese Restaurant</td>\n      <td>Pizza Place</td>\n      <td>Coffee Shop</td>\n      <td>Xinjiang Restaurant</td>\n      <td>Dumpling Restaurant</td>\n      <td>Eastern European Restaurant</td>\n      <td>Electronics Store</td>\n      <td>Escape Room</td>\n    </tr>\n    <tr>\n      <th>2</th>\n      <td>M5A</td>\n      <td>Downtown Toronto</td>\n      <td>Regent Park, Harbourfront</td>\n      <td>43.654260</td>\n      <td>-79.360636</td>\n      <td>1.0</td>\n      <td>Coffee Shop</td>\n      <td>Park</td>\n      <td>Pub</td>\n      <td>Bakery</td>\n      <td>Theater</td>\n      <td>Breakfast Spot</td>\n      <td>Café</td>\n      <td>Distribution Center</td>\n      <td>Shoe Store</td>\n      <td>French Restaurant</td>\n    </tr>\n    <tr>\n      <th>3</th>\n      <td>M6A</td>\n      <td>North York</td>\n      <td>Lawrence Manor, Lawrence Heights</td>\n      <td>43.718518</td>\n      <td>-79.464763</td>\n      <td>1.0</td>\n      <td>Clothing Store</td>\n      <td>Women's Store</td>\n      <td>Vietnamese Restaurant</td>\n      <td>Boutique</td>\n      <td>Furniture / Home Store</td>\n      <td>Event Space</td>\n      <td>Coffee Shop</td>\n      <td>Gift Shop</td>\n      <td>Accessories Store</td>\n      <td>Deli / Bodega</td>\n    </tr>\n    <tr>\n      <th>4</th>\n      <td>M7A</td>\n      <td>Downtown Toronto</td>\n      <td>Queen's Park, Ontario Provincial Government</td>\n      <td>43.653482</td>\n      <td>-79.383935</td>\n      <td>1.0</td>\n      <td>Coffee Shop</td>\n      <td>Clothing Store</td>\n      <td>Hotel</td>\n      <td>Office</td>\n      <td>Plaza</td>\n      <td>Restaurant</td>\n      <td>Diner</td>\n      <td>Bookstore</td>\n      <td>Thai Restaurant</td>\n      <td>Theater</td>\n    </tr>\n  </tbody>\n</table>\n</div>"
     },
     "metadata": {},
     "execution_count": 234
    }
   ],
   "source": [
    "# merge manhattan_grouped with manhattan_data to add latitude/longitude for each neighborhood\n",
    "toronto_merged = toronto_merged.join(neighborhoods_venues_sorted.set_index('Neighborhood'), on='Neighbourhood')\n",
    "\n",
    "toronto_merged.head() # check the last columns!"
   ]
  },
  {
   "cell_type": "code",
   "execution_count": 235,
   "metadata": {},
   "outputs": [
    {
     "output_type": "stream",
     "name": "stdout",
     "text": [
      "toronto_merged cluster labels  [ 1. nan  0.  2.]\n"
     ]
    }
   ],
   "source": [
    "\n",
    "print(\"toronto_merged cluster labels \",toronto_merged['Cluster Labels'].unique())\n",
    "# toronto_merged[toronto_merged['Cluster Labels']== np.nan]\n",
    "toronto_merged['Cluster Labels'].isna().sum() # how many nans? \n",
    "\n",
    "toronto_merged['Cluster Labels'].replace(np.nan, kclusters, inplace=True)     # replace a number =kclusters instead of nan values \n",
    "\n",
    "toronto_merged['Cluster Labels']=toronto_merged['Cluster Labels'].astype(int) # change type from float to int"
   ]
  },
  {
   "cell_type": "code",
   "execution_count": 236,
   "metadata": {},
   "outputs": [
    {
     "output_type": "execute_result",
     "data": {
      "text/plain": [
       "0      1\n",
       "1      1\n",
       "2      1\n",
       "3      1\n",
       "4      1\n",
       "      ..\n",
       "98     1\n",
       "99     1\n",
       "100    1\n",
       "101    1\n",
       "102    1\n",
       "Name: Cluster Labels, Length: 103, dtype: int32"
      ]
     },
     "metadata": {},
     "execution_count": 236
    }
   ],
   "source": [
    "toronto_merged['Cluster Labels']"
   ]
  },
  {
   "source": [
    "Finally, let's visualize the resulting clusters"
   ],
   "cell_type": "markdown",
   "metadata": {}
  },
  {
   "cell_type": "code",
   "execution_count": 242,
   "metadata": {},
   "outputs": [
    {
     "output_type": "execute_result",
     "data": {
      "text/plain": [
       "<folium.folium.Map at 0x24cdd005cd0>"
      ],
      "text/html": "<div style=\"width:100%;\"><div style=\"position:relative;width:100%;height:0;padding-bottom:60%;\"><span style=\"color:#565656\">Make this Notebook Trusted to load map: File -> Trust Notebook</span><iframe src=\"about:blank\" style=\"position:absolute;width:100%;height:100%;left:0;top:0;border:none !important;\" data-html=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 onload=\"this.contentDocument.open();this.contentDocument.write(atob(this.getAttribute('data-html')));this.contentDocument.close();\" allowfullscreen webkitallowfullscreen mozallowfullscreen></iframe></div></div>"
     },
     "metadata": {},
     "execution_count": 242
    }
   ],
   "source": [
    "# create map\n",
    "map_clusters = folium.Map(location=[to_latitude, to_longitude], zoom_start=11)\n",
    "\n",
    "# set color scheme for the clusters\n",
    "x = np.arange(kclusters+1)\n",
    "ys = [i + x + (i*x)**2 for i in range(kclusters+1)]\n",
    "colors_array = cm.rainbow(np.linspace(0, 1, len(ys)))\n",
    "rainbow = [colors.rgb2hex(i) for i in colors_array]\n",
    "\n",
    "# add markers to the map\n",
    "markers_colors = []\n",
    "for lat, lon, poi, cluster in zip(toronto_merged['Latitude'], toronto_merged['Longitude'], toronto_merged['Neighbourhood'], toronto_merged['Cluster Labels']):\n",
    "    label = folium.Popup(str(poi) + ' Cluster ' + str(cluster), parse_html=True)\n",
    "    folium.CircleMarker(\n",
    "        [lat, lon],\n",
    "        radius=5,\n",
    "        popup=label,\n",
    "        color=rainbow[cluster-1],\n",
    "        fill=True,\n",
    "        fill_color=rainbow[cluster-1],\n",
    "        fill_opacity=0.7).add_to(map_clusters)\n",
    "       \n",
    "map_clusters"
   ]
  },
  {
   "source": [
    "## Examine clusters"
   ],
   "cell_type": "markdown",
   "metadata": {}
  },
  {
   "source": [
    "### Cluster 1"
   ],
   "cell_type": "markdown",
   "metadata": {}
  },
  {
   "cell_type": "code",
   "execution_count": 238,
   "metadata": {},
   "outputs": [
    {
     "output_type": "execute_result",
     "data": {
      "text/plain": [
       "             Borough  Cluster Labels       1st Most Common Venue  \\\n",
       "21              York               0                        Park   \n",
       "33        North York               0                        Park   \n",
       "35         East York               0           Convenience Store   \n",
       "49        North York               0  Construction & Landscaping   \n",
       "61   Central Toronto               0                        Park   \n",
       "64              York               0                        Park   \n",
       "66        North York               0           Convenience Store   \n",
       "68   Central Toronto               0            Sushi Restaurant   \n",
       "69      West Toronto               0               Bowling Alley   \n",
       "85       Scarborough               0                  Playground   \n",
       "91  Downtown Toronto               0                        Park   \n",
       "\n",
       "   2nd Most Common Venue                     3rd Most Common Venue  \\\n",
       "21                  Pool                             Women's Store   \n",
       "33              Pharmacy                               Pizza Place   \n",
       "35                  Park                              Intersection   \n",
       "49                  Park                                    Bakery   \n",
       "61              Bus Line                               Swim School   \n",
       "64   Xinjiang Restaurant                                Donut Shop   \n",
       "66                  Park                                Donut Shop   \n",
       "68                  Park                                     Trail   \n",
       "69                  Park  Residential Building (Apartment / Condo)   \n",
       "85                Bakery                                      Park   \n",
       "91            Playground                                     Trail   \n",
       "\n",
       "          4th Most Common Venue        5th Most Common Venue  \\\n",
       "21            Afghan Restaurant           Falafel Restaurant   \n",
       "33            Convenience Store    Middle Eastern Restaurant   \n",
       "35  Eastern European Restaurant            Electronics Store   \n",
       "49                  Fish Market            Fish & Chips Shop   \n",
       "61          Dumpling Restaurant            Electronics Store   \n",
       "64          Dumpling Restaurant  Eastern European Restaurant   \n",
       "66          Dumpling Restaurant  Eastern European Restaurant   \n",
       "68                Jewelry Store          Filipino Restaurant   \n",
       "69            Convenience Store             Cuban Restaurant   \n",
       "85          Xinjiang Restaurant           Falafel Restaurant   \n",
       "91          Xinjiang Restaurant          Dumpling Restaurant   \n",
       "\n",
       "          6th Most Common Venue        7th Most Common Venue  \\\n",
       "21          Dumpling Restaurant  Eastern European Restaurant   \n",
       "33                  Coffee Shop              Thai Restaurant   \n",
       "35                  Escape Room         Ethiopian Restaurant   \n",
       "49          Filipino Restaurant                        Field   \n",
       "61                  Escape Room         Ethiopian Restaurant   \n",
       "64            Electronics Store                  Escape Room   \n",
       "66            Electronics Store                  Escape Room   \n",
       "68                        Field         Fast Food Restaurant   \n",
       "69                  Curling Ice                         Food   \n",
       "85          Dumpling Restaurant  Eastern European Restaurant   \n",
       "91  Eastern European Restaurant            Electronics Store   \n",
       "\n",
       "   8th Most Common Venue 9th Most Common Venue 10th Most Common Venue  \n",
       "21     Electronics Store           Escape Room   Ethiopian Restaurant  \n",
       "33             Wine Shop      Cuban Restaurant              Drugstore  \n",
       "35           Event Space    Falafel Restaurant         Farmers Market  \n",
       "49  Fast Food Restaurant        Farmers Market              Drugstore  \n",
       "61           Event Space    Falafel Restaurant    Xinjiang Restaurant  \n",
       "64  Ethiopian Restaurant           Event Space     Falafel Restaurant  \n",
       "66  Ethiopian Restaurant           Event Space     Falafel Restaurant  \n",
       "68        Farmers Market    Falafel Restaurant      Fish & Chips Shop  \n",
       "69           Flower Shop           Fish Market      Fish & Chips Shop  \n",
       "85     Electronics Store           Escape Room   Ethiopian Restaurant  \n",
       "91           Escape Room  Ethiopian Restaurant            Event Space  "
      ],
      "text/html": "<div>\n<style scoped>\n    .dataframe tbody tr th:only-of-type {\n        vertical-align: middle;\n    }\n\n    .dataframe tbody tr th {\n        vertical-align: top;\n    }\n\n    .dataframe thead th {\n        text-align: right;\n    }\n</style>\n<table border=\"1\" class=\"dataframe\">\n  <thead>\n    <tr style=\"text-align: right;\">\n      <th></th>\n      <th>Borough</th>\n      <th>Cluster Labels</th>\n      <th>1st Most Common Venue</th>\n      <th>2nd Most Common Venue</th>\n      <th>3rd Most Common Venue</th>\n      <th>4th Most Common Venue</th>\n      <th>5th Most Common Venue</th>\n      <th>6th Most Common Venue</th>\n      <th>7th Most Common Venue</th>\n      <th>8th Most Common Venue</th>\n      <th>9th Most Common Venue</th>\n      <th>10th Most Common Venue</th>\n    </tr>\n  </thead>\n  <tbody>\n    <tr>\n      <th>21</th>\n      <td>York</td>\n      <td>0</td>\n      <td>Park</td>\n      <td>Pool</td>\n      <td>Women's Store</td>\n      <td>Afghan Restaurant</td>\n      <td>Falafel Restaurant</td>\n      <td>Dumpling Restaurant</td>\n      <td>Eastern European Restaurant</td>\n      <td>Electronics Store</td>\n      <td>Escape Room</td>\n      <td>Ethiopian Restaurant</td>\n    </tr>\n    <tr>\n      <th>33</th>\n      <td>North York</td>\n      <td>0</td>\n      <td>Park</td>\n      <td>Pharmacy</td>\n      <td>Pizza Place</td>\n      <td>Convenience Store</td>\n      <td>Middle Eastern Restaurant</td>\n      <td>Coffee Shop</td>\n      <td>Thai Restaurant</td>\n      <td>Wine Shop</td>\n      <td>Cuban Restaurant</td>\n      <td>Drugstore</td>\n    </tr>\n    <tr>\n      <th>35</th>\n      <td>East York</td>\n      <td>0</td>\n      <td>Convenience Store</td>\n      <td>Park</td>\n      <td>Intersection</td>\n      <td>Eastern European Restaurant</td>\n      <td>Electronics Store</td>\n      <td>Escape Room</td>\n      <td>Ethiopian Restaurant</td>\n      <td>Event Space</td>\n      <td>Falafel Restaurant</td>\n      <td>Farmers Market</td>\n    </tr>\n    <tr>\n      <th>49</th>\n      <td>North York</td>\n      <td>0</td>\n      <td>Construction &amp; Landscaping</td>\n      <td>Park</td>\n      <td>Bakery</td>\n      <td>Fish Market</td>\n      <td>Fish &amp; Chips Shop</td>\n      <td>Filipino Restaurant</td>\n      <td>Field</td>\n      <td>Fast Food Restaurant</td>\n      <td>Farmers Market</td>\n      <td>Drugstore</td>\n    </tr>\n    <tr>\n      <th>61</th>\n      <td>Central Toronto</td>\n      <td>0</td>\n      <td>Park</td>\n      <td>Bus Line</td>\n      <td>Swim School</td>\n      <td>Dumpling Restaurant</td>\n      <td>Electronics Store</td>\n      <td>Escape Room</td>\n      <td>Ethiopian Restaurant</td>\n      <td>Event Space</td>\n      <td>Falafel Restaurant</td>\n      <td>Xinjiang Restaurant</td>\n    </tr>\n    <tr>\n      <th>64</th>\n      <td>York</td>\n      <td>0</td>\n      <td>Park</td>\n      <td>Xinjiang Restaurant</td>\n      <td>Donut Shop</td>\n      <td>Dumpling Restaurant</td>\n      <td>Eastern European Restaurant</td>\n      <td>Electronics Store</td>\n      <td>Escape Room</td>\n      <td>Ethiopian Restaurant</td>\n      <td>Event Space</td>\n      <td>Falafel Restaurant</td>\n    </tr>\n    <tr>\n      <th>66</th>\n      <td>North York</td>\n      <td>0</td>\n      <td>Convenience Store</td>\n      <td>Park</td>\n      <td>Donut Shop</td>\n      <td>Dumpling Restaurant</td>\n      <td>Eastern European Restaurant</td>\n      <td>Electronics Store</td>\n      <td>Escape Room</td>\n      <td>Ethiopian Restaurant</td>\n      <td>Event Space</td>\n      <td>Falafel Restaurant</td>\n    </tr>\n    <tr>\n      <th>68</th>\n      <td>Central Toronto</td>\n      <td>0</td>\n      <td>Sushi Restaurant</td>\n      <td>Park</td>\n      <td>Trail</td>\n      <td>Jewelry Store</td>\n      <td>Filipino Restaurant</td>\n      <td>Field</td>\n      <td>Fast Food Restaurant</td>\n      <td>Farmers Market</td>\n      <td>Falafel Restaurant</td>\n      <td>Fish &amp; Chips Shop</td>\n    </tr>\n    <tr>\n      <th>69</th>\n      <td>West Toronto</td>\n      <td>0</td>\n      <td>Bowling Alley</td>\n      <td>Park</td>\n      <td>Residential Building (Apartment / Condo)</td>\n      <td>Convenience Store</td>\n      <td>Cuban Restaurant</td>\n      <td>Curling Ice</td>\n      <td>Food</td>\n      <td>Flower Shop</td>\n      <td>Fish Market</td>\n      <td>Fish &amp; Chips Shop</td>\n    </tr>\n    <tr>\n      <th>85</th>\n      <td>Scarborough</td>\n      <td>0</td>\n      <td>Playground</td>\n      <td>Bakery</td>\n      <td>Park</td>\n      <td>Xinjiang Restaurant</td>\n      <td>Falafel Restaurant</td>\n      <td>Dumpling Restaurant</td>\n      <td>Eastern European Restaurant</td>\n      <td>Electronics Store</td>\n      <td>Escape Room</td>\n      <td>Ethiopian Restaurant</td>\n    </tr>\n    <tr>\n      <th>91</th>\n      <td>Downtown Toronto</td>\n      <td>0</td>\n      <td>Park</td>\n      <td>Playground</td>\n      <td>Trail</td>\n      <td>Xinjiang Restaurant</td>\n      <td>Dumpling Restaurant</td>\n      <td>Eastern European Restaurant</td>\n      <td>Electronics Store</td>\n      <td>Escape Room</td>\n      <td>Ethiopian Restaurant</td>\n      <td>Event Space</td>\n    </tr>\n  </tbody>\n</table>\n</div>"
     },
     "metadata": {},
     "execution_count": 238
    }
   ],
   "source": [
    "toronto_merged.loc[toronto_merged['Cluster Labels'] == 0, toronto_merged.columns[[1] + list(range(5, toronto_merged.shape[1]))]]"
   ]
  },
  {
   "source": [
    "### cluster 2"
   ],
   "cell_type": "markdown",
   "metadata": {}
  },
  {
   "cell_type": "code",
   "execution_count": 239,
   "metadata": {},
   "outputs": [
    {
     "output_type": "execute_result",
     "data": {
      "text/plain": [
       "              Borough  Cluster Labels       1st Most Common Venue  \\\n",
       "0          North York               1                 Coffee Shop   \n",
       "1          North York               1                Intersection   \n",
       "2    Downtown Toronto               1                 Coffee Shop   \n",
       "3          North York               1              Clothing Store   \n",
       "4    Downtown Toronto               1                 Coffee Shop   \n",
       "..                ...             ...                         ...   \n",
       "98          Etobicoke               1                        Pool   \n",
       "99   Downtown Toronto               1                 Coffee Shop   \n",
       "100      East Toronto               1                  Comic Shop   \n",
       "101         Etobicoke               1  Construction & Landscaping   \n",
       "102         Etobicoke               1           Convenience Store   \n",
       "\n",
       "      2nd Most Common Venue  3rd Most Common Venue 4th Most Common Venue  \\\n",
       "0            Clothing Store                  Hotel                Office   \n",
       "1              Hockey Arena  Portuguese Restaurant           Pizza Place   \n",
       "2                      Park                    Pub                Bakery   \n",
       "3             Women's Store  Vietnamese Restaurant              Boutique   \n",
       "4            Clothing Store                  Hotel                Office   \n",
       "..                      ...                    ...                   ...   \n",
       "98                    River       Doner Restaurant             Drugstore   \n",
       "99      Japanese Restaurant                Gay Bar      Sushi Restaurant   \n",
       "100           Auto Workshop                   Park      Recording Studio   \n",
       "101          Baseball Field         Farmers Market     Electronics Store   \n",
       "102  Thrift / Vintage Store   Fast Food Restaurant          Burger Joint   \n",
       "\n",
       "      5th Most Common Venue        6th Most Common Venue  \\\n",
       "0                     Plaza                   Restaurant   \n",
       "1               Coffee Shop          Xinjiang Restaurant   \n",
       "2                   Theater               Breakfast Spot   \n",
       "3    Furniture / Home Store                  Event Space   \n",
       "4                     Plaza                   Restaurant   \n",
       "..                      ...                          ...   \n",
       "98      Dumpling Restaurant  Eastern European Restaurant   \n",
       "99               Restaurant                  Yoga Studio   \n",
       "100              Restaurant                      Butcher   \n",
       "101             Escape Room         Ethiopian Restaurant   \n",
       "102           Burrito Place               Sandwich Place   \n",
       "\n",
       "    7th Most Common Venue        8th Most Common Venue  \\\n",
       "0                   Diner                    Bookstore   \n",
       "1     Dumpling Restaurant  Eastern European Restaurant   \n",
       "2                    Café          Distribution Center   \n",
       "3             Coffee Shop                    Gift Shop   \n",
       "4                   Diner                    Bookstore   \n",
       "..                    ...                          ...   \n",
       "98      Electronics Store                  Escape Room   \n",
       "99            Men's Store                          Pub   \n",
       "100            Skate Park               Farmers Market   \n",
       "101           Event Space           Falafel Restaurant   \n",
       "102       Supplement Shop                   Kids Store   \n",
       "\n",
       "        9th Most Common Venue 10th Most Common Venue  \n",
       "0             Thai Restaurant                Theater  \n",
       "1           Electronics Store            Escape Room  \n",
       "2                  Shoe Store      French Restaurant  \n",
       "3           Accessories Store          Deli / Bodega  \n",
       "4             Thai Restaurant                Theater  \n",
       "..                        ...                    ...  \n",
       "98       Ethiopian Restaurant            Event Space  \n",
       "99   Mediterranean Restaurant                  Hotel  \n",
       "100      Fast Food Restaurant          Burrito Place  \n",
       "101      Fast Food Restaurant    Dumpling Restaurant  \n",
       "102             Tanning Salon         Discount Store  \n",
       "\n",
       "[88 rows x 12 columns]"
      ],
      "text/html": "<div>\n<style scoped>\n    .dataframe tbody tr th:only-of-type {\n        vertical-align: middle;\n    }\n\n    .dataframe tbody tr th {\n        vertical-align: top;\n    }\n\n    .dataframe thead th {\n        text-align: right;\n    }\n</style>\n<table border=\"1\" class=\"dataframe\">\n  <thead>\n    <tr style=\"text-align: right;\">\n      <th></th>\n      <th>Borough</th>\n      <th>Cluster Labels</th>\n      <th>1st Most Common Venue</th>\n      <th>2nd Most Common Venue</th>\n      <th>3rd Most Common Venue</th>\n      <th>4th Most Common Venue</th>\n      <th>5th Most Common Venue</th>\n      <th>6th Most Common Venue</th>\n      <th>7th Most Common Venue</th>\n      <th>8th Most Common Venue</th>\n      <th>9th Most Common Venue</th>\n      <th>10th Most Common Venue</th>\n    </tr>\n  </thead>\n  <tbody>\n    <tr>\n      <th>0</th>\n      <td>North York</td>\n      <td>1</td>\n      <td>Coffee Shop</td>\n      <td>Clothing Store</td>\n      <td>Hotel</td>\n      <td>Office</td>\n      <td>Plaza</td>\n      <td>Restaurant</td>\n      <td>Diner</td>\n      <td>Bookstore</td>\n      <td>Thai Restaurant</td>\n      <td>Theater</td>\n    </tr>\n    <tr>\n      <th>1</th>\n      <td>North York</td>\n      <td>1</td>\n      <td>Intersection</td>\n      <td>Hockey Arena</td>\n      <td>Portuguese Restaurant</td>\n      <td>Pizza Place</td>\n      <td>Coffee Shop</td>\n      <td>Xinjiang Restaurant</td>\n      <td>Dumpling Restaurant</td>\n      <td>Eastern European Restaurant</td>\n      <td>Electronics Store</td>\n      <td>Escape Room</td>\n    </tr>\n    <tr>\n      <th>2</th>\n      <td>Downtown Toronto</td>\n      <td>1</td>\n      <td>Coffee Shop</td>\n      <td>Park</td>\n      <td>Pub</td>\n      <td>Bakery</td>\n      <td>Theater</td>\n      <td>Breakfast Spot</td>\n      <td>Café</td>\n      <td>Distribution Center</td>\n      <td>Shoe Store</td>\n      <td>French Restaurant</td>\n    </tr>\n    <tr>\n      <th>3</th>\n      <td>North York</td>\n      <td>1</td>\n      <td>Clothing Store</td>\n      <td>Women's Store</td>\n      <td>Vietnamese Restaurant</td>\n      <td>Boutique</td>\n      <td>Furniture / Home Store</td>\n      <td>Event Space</td>\n      <td>Coffee Shop</td>\n      <td>Gift Shop</td>\n      <td>Accessories Store</td>\n      <td>Deli / Bodega</td>\n    </tr>\n    <tr>\n      <th>4</th>\n      <td>Downtown Toronto</td>\n      <td>1</td>\n      <td>Coffee Shop</td>\n      <td>Clothing Store</td>\n      <td>Hotel</td>\n      <td>Office</td>\n      <td>Plaza</td>\n      <td>Restaurant</td>\n      <td>Diner</td>\n      <td>Bookstore</td>\n      <td>Thai Restaurant</td>\n      <td>Theater</td>\n    </tr>\n    <tr>\n      <th>...</th>\n      <td>...</td>\n      <td>...</td>\n      <td>...</td>\n      <td>...</td>\n      <td>...</td>\n      <td>...</td>\n      <td>...</td>\n      <td>...</td>\n      <td>...</td>\n      <td>...</td>\n      <td>...</td>\n      <td>...</td>\n    </tr>\n    <tr>\n      <th>98</th>\n      <td>Etobicoke</td>\n      <td>1</td>\n      <td>Pool</td>\n      <td>River</td>\n      <td>Doner Restaurant</td>\n      <td>Drugstore</td>\n      <td>Dumpling Restaurant</td>\n      <td>Eastern European Restaurant</td>\n      <td>Electronics Store</td>\n      <td>Escape Room</td>\n      <td>Ethiopian Restaurant</td>\n      <td>Event Space</td>\n    </tr>\n    <tr>\n      <th>99</th>\n      <td>Downtown Toronto</td>\n      <td>1</td>\n      <td>Coffee Shop</td>\n      <td>Japanese Restaurant</td>\n      <td>Gay Bar</td>\n      <td>Sushi Restaurant</td>\n      <td>Restaurant</td>\n      <td>Yoga Studio</td>\n      <td>Men's Store</td>\n      <td>Pub</td>\n      <td>Mediterranean Restaurant</td>\n      <td>Hotel</td>\n    </tr>\n    <tr>\n      <th>100</th>\n      <td>East Toronto</td>\n      <td>1</td>\n      <td>Comic Shop</td>\n      <td>Auto Workshop</td>\n      <td>Park</td>\n      <td>Recording Studio</td>\n      <td>Restaurant</td>\n      <td>Butcher</td>\n      <td>Skate Park</td>\n      <td>Farmers Market</td>\n      <td>Fast Food Restaurant</td>\n      <td>Burrito Place</td>\n    </tr>\n    <tr>\n      <th>101</th>\n      <td>Etobicoke</td>\n      <td>1</td>\n      <td>Construction &amp; Landscaping</td>\n      <td>Baseball Field</td>\n      <td>Farmers Market</td>\n      <td>Electronics Store</td>\n      <td>Escape Room</td>\n      <td>Ethiopian Restaurant</td>\n      <td>Event Space</td>\n      <td>Falafel Restaurant</td>\n      <td>Fast Food Restaurant</td>\n      <td>Dumpling Restaurant</td>\n    </tr>\n    <tr>\n      <th>102</th>\n      <td>Etobicoke</td>\n      <td>1</td>\n      <td>Convenience Store</td>\n      <td>Thrift / Vintage Store</td>\n      <td>Fast Food Restaurant</td>\n      <td>Burger Joint</td>\n      <td>Burrito Place</td>\n      <td>Sandwich Place</td>\n      <td>Supplement Shop</td>\n      <td>Kids Store</td>\n      <td>Tanning Salon</td>\n      <td>Discount Store</td>\n    </tr>\n  </tbody>\n</table>\n<p>88 rows × 12 columns</p>\n</div>"
     },
     "metadata": {},
     "execution_count": 239
    }
   ],
   "source": [
    "toronto_merged.loc[toronto_merged['Cluster Labels'] == 1, toronto_merged.columns[[1] + list(range(5, toronto_merged.shape[1]))]]"
   ]
  },
  {
   "cell_type": "code",
   "execution_count": 240,
   "metadata": {},
   "outputs": [
    {
     "output_type": "execute_result",
     "data": {
      "text/plain": [
       "       Borough  Cluster Labels 1st Most Common Venue 2nd Most Common Venue  \\\n",
       "45  North York               2   Martial Arts School   Xinjiang Restaurant   \n",
       "\n",
       "   3rd Most Common Venue        4th Most Common Venue 5th Most Common Venue  \\\n",
       "45        Farmers Market  Eastern European Restaurant     Electronics Store   \n",
       "\n",
       "   6th Most Common Venue 7th Most Common Venue 8th Most Common Venue  \\\n",
       "45           Escape Room  Ethiopian Restaurant           Event Space   \n",
       "\n",
       "   9th Most Common Venue 10th Most Common Venue  \n",
       "45    Falafel Restaurant   Fast Food Restaurant  "
      ],
      "text/html": "<div>\n<style scoped>\n    .dataframe tbody tr th:only-of-type {\n        vertical-align: middle;\n    }\n\n    .dataframe tbody tr th {\n        vertical-align: top;\n    }\n\n    .dataframe thead th {\n        text-align: right;\n    }\n</style>\n<table border=\"1\" class=\"dataframe\">\n  <thead>\n    <tr style=\"text-align: right;\">\n      <th></th>\n      <th>Borough</th>\n      <th>Cluster Labels</th>\n      <th>1st Most Common Venue</th>\n      <th>2nd Most Common Venue</th>\n      <th>3rd Most Common Venue</th>\n      <th>4th Most Common Venue</th>\n      <th>5th Most Common Venue</th>\n      <th>6th Most Common Venue</th>\n      <th>7th Most Common Venue</th>\n      <th>8th Most Common Venue</th>\n      <th>9th Most Common Venue</th>\n      <th>10th Most Common Venue</th>\n    </tr>\n  </thead>\n  <tbody>\n    <tr>\n      <th>45</th>\n      <td>North York</td>\n      <td>2</td>\n      <td>Martial Arts School</td>\n      <td>Xinjiang Restaurant</td>\n      <td>Farmers Market</td>\n      <td>Eastern European Restaurant</td>\n      <td>Electronics Store</td>\n      <td>Escape Room</td>\n      <td>Ethiopian Restaurant</td>\n      <td>Event Space</td>\n      <td>Falafel Restaurant</td>\n      <td>Fast Food Restaurant</td>\n    </tr>\n  </tbody>\n</table>\n</div>"
     },
     "metadata": {},
     "execution_count": 240
    }
   ],
   "source": [
    "toronto_merged.loc[toronto_merged['Cluster Labels'] == 2, toronto_merged.columns[[1] + list(range(5, toronto_merged.shape[1]))]]"
   ]
  },
  {
   "cell_type": "code",
   "execution_count": 241,
   "metadata": {},
   "outputs": [
    {
     "output_type": "execute_result",
     "data": {
      "text/plain": [
       "        Borough  Cluster Labels 1st Most Common Venue 2nd Most Common Venue  \\\n",
       "5     Etobicoke               3                   NaN                   NaN   \n",
       "17    Etobicoke               3                   NaN                   NaN   \n",
       "95  Scarborough               3                   NaN                   NaN   \n",
       "\n",
       "   3rd Most Common Venue 4th Most Common Venue 5th Most Common Venue  \\\n",
       "5                    NaN                   NaN                   NaN   \n",
       "17                   NaN                   NaN                   NaN   \n",
       "95                   NaN                   NaN                   NaN   \n",
       "\n",
       "   6th Most Common Venue 7th Most Common Venue 8th Most Common Venue  \\\n",
       "5                    NaN                   NaN                   NaN   \n",
       "17                   NaN                   NaN                   NaN   \n",
       "95                   NaN                   NaN                   NaN   \n",
       "\n",
       "   9th Most Common Venue 10th Most Common Venue  \n",
       "5                    NaN                    NaN  \n",
       "17                   NaN                    NaN  \n",
       "95                   NaN                    NaN  "
      ],
      "text/html": "<div>\n<style scoped>\n    .dataframe tbody tr th:only-of-type {\n        vertical-align: middle;\n    }\n\n    .dataframe tbody tr th {\n        vertical-align: top;\n    }\n\n    .dataframe thead th {\n        text-align: right;\n    }\n</style>\n<table border=\"1\" class=\"dataframe\">\n  <thead>\n    <tr style=\"text-align: right;\">\n      <th></th>\n      <th>Borough</th>\n      <th>Cluster Labels</th>\n      <th>1st Most Common Venue</th>\n      <th>2nd Most Common Venue</th>\n      <th>3rd Most Common Venue</th>\n      <th>4th Most Common Venue</th>\n      <th>5th Most Common Venue</th>\n      <th>6th Most Common Venue</th>\n      <th>7th Most Common Venue</th>\n      <th>8th Most Common Venue</th>\n      <th>9th Most Common Venue</th>\n      <th>10th Most Common Venue</th>\n    </tr>\n  </thead>\n  <tbody>\n    <tr>\n      <th>5</th>\n      <td>Etobicoke</td>\n      <td>3</td>\n      <td>NaN</td>\n      <td>NaN</td>\n      <td>NaN</td>\n      <td>NaN</td>\n      <td>NaN</td>\n      <td>NaN</td>\n      <td>NaN</td>\n      <td>NaN</td>\n      <td>NaN</td>\n      <td>NaN</td>\n    </tr>\n    <tr>\n      <th>17</th>\n      <td>Etobicoke</td>\n      <td>3</td>\n      <td>NaN</td>\n      <td>NaN</td>\n      <td>NaN</td>\n      <td>NaN</td>\n      <td>NaN</td>\n      <td>NaN</td>\n      <td>NaN</td>\n      <td>NaN</td>\n      <td>NaN</td>\n      <td>NaN</td>\n    </tr>\n    <tr>\n      <th>95</th>\n      <td>Scarborough</td>\n      <td>3</td>\n      <td>NaN</td>\n      <td>NaN</td>\n      <td>NaN</td>\n      <td>NaN</td>\n      <td>NaN</td>\n      <td>NaN</td>\n      <td>NaN</td>\n      <td>NaN</td>\n      <td>NaN</td>\n      <td>NaN</td>\n    </tr>\n  </tbody>\n</table>\n</div>"
     },
     "metadata": {},
     "execution_count": 241
    }
   ],
   "source": [
    "toronto_merged.loc[toronto_merged['Cluster Labels'] == 3, toronto_merged.columns[[1] + list(range(5, toronto_merged.shape[1]))]]"
   ]
  },
  {
   "cell_type": "code",
   "execution_count": 227,
   "metadata": {},
   "outputs": [
    {
     "output_type": "execute_result",
     "data": {
      "text/plain": [
       "        Borough  Cluster Labels 1st Most Common Venue 2nd Most Common Venue  \\\n",
       "5     Etobicoke               4                   NaN                   NaN   \n",
       "17    Etobicoke               4                   NaN                   NaN   \n",
       "95  Scarborough               4                   NaN                   NaN   \n",
       "\n",
       "   3rd Most Common Venue 4th Most Common Venue 5th Most Common Venue  \\\n",
       "5                    NaN                   NaN                   NaN   \n",
       "17                   NaN                   NaN                   NaN   \n",
       "95                   NaN                   NaN                   NaN   \n",
       "\n",
       "   6th Most Common Venue 7th Most Common Venue 8th Most Common Venue  \\\n",
       "5                    NaN                   NaN                   NaN   \n",
       "17                   NaN                   NaN                   NaN   \n",
       "95                   NaN                   NaN                   NaN   \n",
       "\n",
       "   9th Most Common Venue 10th Most Common Venue  \n",
       "5                    NaN                    NaN  \n",
       "17                   NaN                    NaN  \n",
       "95                   NaN                    NaN  "
      ],
      "text/html": "<div>\n<style scoped>\n    .dataframe tbody tr th:only-of-type {\n        vertical-align: middle;\n    }\n\n    .dataframe tbody tr th {\n        vertical-align: top;\n    }\n\n    .dataframe thead th {\n        text-align: right;\n    }\n</style>\n<table border=\"1\" class=\"dataframe\">\n  <thead>\n    <tr style=\"text-align: right;\">\n      <th></th>\n      <th>Borough</th>\n      <th>Cluster Labels</th>\n      <th>1st Most Common Venue</th>\n      <th>2nd Most Common Venue</th>\n      <th>3rd Most Common Venue</th>\n      <th>4th Most Common Venue</th>\n      <th>5th Most Common Venue</th>\n      <th>6th Most Common Venue</th>\n      <th>7th Most Common Venue</th>\n      <th>8th Most Common Venue</th>\n      <th>9th Most Common Venue</th>\n      <th>10th Most Common Venue</th>\n    </tr>\n  </thead>\n  <tbody>\n    <tr>\n      <th>5</th>\n      <td>Etobicoke</td>\n      <td>4</td>\n      <td>NaN</td>\n      <td>NaN</td>\n      <td>NaN</td>\n      <td>NaN</td>\n      <td>NaN</td>\n      <td>NaN</td>\n      <td>NaN</td>\n      <td>NaN</td>\n      <td>NaN</td>\n      <td>NaN</td>\n    </tr>\n    <tr>\n      <th>17</th>\n      <td>Etobicoke</td>\n      <td>4</td>\n      <td>NaN</td>\n      <td>NaN</td>\n      <td>NaN</td>\n      <td>NaN</td>\n      <td>NaN</td>\n      <td>NaN</td>\n      <td>NaN</td>\n      <td>NaN</td>\n      <td>NaN</td>\n      <td>NaN</td>\n    </tr>\n    <tr>\n      <th>95</th>\n      <td>Scarborough</td>\n      <td>4</td>\n      <td>NaN</td>\n      <td>NaN</td>\n      <td>NaN</td>\n      <td>NaN</td>\n      <td>NaN</td>\n      <td>NaN</td>\n      <td>NaN</td>\n      <td>NaN</td>\n      <td>NaN</td>\n      <td>NaN</td>\n    </tr>\n  </tbody>\n</table>\n</div>"
     },
     "metadata": {},
     "execution_count": 227
    }
   ],
   "source": [
    "toronto_merged.loc[toronto_merged['Cluster Labels'] == 4, toronto_merged.columns[[1] + list(range(5, toronto_merged.shape[1]))]]\n"
   ]
  },
  {
   "source": [
    "## Missing values Cluster"
   ],
   "cell_type": "markdown",
   "metadata": {}
  },
  {
   "cell_type": "code",
   "execution_count": 209,
   "metadata": {},
   "outputs": [
    {
     "output_type": "execute_result",
     "data": {
      "text/plain": [
       "        Borough  Cluster Labels 1st Most Common Venue 2nd Most Common Venue  \\\n",
       "5     Etobicoke               5                   NaN                   NaN   \n",
       "17    Etobicoke               5                   NaN                   NaN   \n",
       "95  Scarborough               5                   NaN                   NaN   \n",
       "\n",
       "   3rd Most Common Venue 4th Most Common Venue 5th Most Common Venue  \\\n",
       "5                    NaN                   NaN                   NaN   \n",
       "17                   NaN                   NaN                   NaN   \n",
       "95                   NaN                   NaN                   NaN   \n",
       "\n",
       "   6th Most Common Venue 7th Most Common Venue 8th Most Common Venue  \\\n",
       "5                    NaN                   NaN                   NaN   \n",
       "17                   NaN                   NaN                   NaN   \n",
       "95                   NaN                   NaN                   NaN   \n",
       "\n",
       "   9th Most Common Venue 10th Most Common Venue  \n",
       "5                    NaN                    NaN  \n",
       "17                   NaN                    NaN  \n",
       "95                   NaN                    NaN  "
      ],
      "text/html": "<div>\n<style scoped>\n    .dataframe tbody tr th:only-of-type {\n        vertical-align: middle;\n    }\n\n    .dataframe tbody tr th {\n        vertical-align: top;\n    }\n\n    .dataframe thead th {\n        text-align: right;\n    }\n</style>\n<table border=\"1\" class=\"dataframe\">\n  <thead>\n    <tr style=\"text-align: right;\">\n      <th></th>\n      <th>Borough</th>\n      <th>Cluster Labels</th>\n      <th>1st Most Common Venue</th>\n      <th>2nd Most Common Venue</th>\n      <th>3rd Most Common Venue</th>\n      <th>4th Most Common Venue</th>\n      <th>5th Most Common Venue</th>\n      <th>6th Most Common Venue</th>\n      <th>7th Most Common Venue</th>\n      <th>8th Most Common Venue</th>\n      <th>9th Most Common Venue</th>\n      <th>10th Most Common Venue</th>\n    </tr>\n  </thead>\n  <tbody>\n    <tr>\n      <th>5</th>\n      <td>Etobicoke</td>\n      <td>5</td>\n      <td>NaN</td>\n      <td>NaN</td>\n      <td>NaN</td>\n      <td>NaN</td>\n      <td>NaN</td>\n      <td>NaN</td>\n      <td>NaN</td>\n      <td>NaN</td>\n      <td>NaN</td>\n      <td>NaN</td>\n    </tr>\n    <tr>\n      <th>17</th>\n      <td>Etobicoke</td>\n      <td>5</td>\n      <td>NaN</td>\n      <td>NaN</td>\n      <td>NaN</td>\n      <td>NaN</td>\n      <td>NaN</td>\n      <td>NaN</td>\n      <td>NaN</td>\n      <td>NaN</td>\n      <td>NaN</td>\n      <td>NaN</td>\n    </tr>\n    <tr>\n      <th>95</th>\n      <td>Scarborough</td>\n      <td>5</td>\n      <td>NaN</td>\n      <td>NaN</td>\n      <td>NaN</td>\n      <td>NaN</td>\n      <td>NaN</td>\n      <td>NaN</td>\n      <td>NaN</td>\n      <td>NaN</td>\n      <td>NaN</td>\n      <td>NaN</td>\n    </tr>\n  </tbody>\n</table>\n</div>"
     },
     "metadata": {},
     "execution_count": 209
    }
   ],
   "source": [
    "toronto_merged.loc[toronto_merged['Cluster Labels'] == 5, toronto_merged.columns[[1] + list(range(5, toronto_merged.shape[1]))]]\n"
   ]
  },
  {
   "cell_type": "code",
   "execution_count": null,
   "metadata": {},
   "outputs": [],
   "source": []
  }
 ]
}